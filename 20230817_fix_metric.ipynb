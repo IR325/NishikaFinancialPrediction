{
 "cells": [
  {
   "cell_type": "code",
   "execution_count": 1,
   "id": "7d8b1d91-06fd-4277-8766-91aa65630f05",
   "metadata": {},
   "outputs": [],
   "source": [
    "import pandas as pd\n",
    "import numpy as np\n",
    "from pathlib import Path\n",
    "import plotly.express as px\n",
    "import time"
   ]
  },
  {
   "cell_type": "code",
   "execution_count": 2,
   "id": "9603a490-e942-49b7-af4e-bddf9a24a47b",
   "metadata": {},
   "outputs": [],
   "source": [
    "from sklearn.model_selection import train_test_split\n",
    "import lightgbm as lgb"
   ]
  },
  {
   "cell_type": "markdown",
   "id": "d652d1c3-02c7-4fd5-807a-acb2c7d58120",
   "metadata": {},
   "source": [
    "# 環境設定"
   ]
  },
  {
   "cell_type": "code",
   "execution_count": 3,
   "id": "c52b92ed-9748-4f74-86b8-91c7eacd9080",
   "metadata": {},
   "outputs": [],
   "source": [
    "DATA_PATH = \"./data\"\n",
    "RESULT_PATH = \"./results\""
   ]
  },
  {
   "cell_type": "markdown",
   "id": "e60bf786-9526-4ca1-a377-959ad7d708c3",
   "metadata": {},
   "source": [
    "# 関数定義"
   ]
  },
  {
   "cell_type": "code",
   "execution_count": 4,
   "id": "f9a3f73d-7879-43dd-b111-520d79f88310",
   "metadata": {},
   "outputs": [],
   "source": [
    "def cosine_similarity(y_true, y_pred):\n",
    "    if isinstance(y_true, pd.Series):\n",
    "        y_true = y_true.values.reshape(-1)\n",
    "    if isinstance(y_pred, pd.Series):\n",
    "        y_pred = y_pred.values.reshape(-1)\n",
    "    score = np.dot(y_true, y_pred) / (np.linalg.norm(y_true) * np.linalg.norm(y_pred))\n",
    "    return score"
   ]
  },
  {
   "cell_type": "markdown",
   "id": "caa5d652-f0ff-4e53-9b96-73fa808f40cc",
   "metadata": {},
   "source": [
    "# 分析"
   ]
  },
  {
   "cell_type": "markdown",
   "id": "86a425cc-5242-4587-bbd2-01a961172ade",
   "metadata": {},
   "source": [
    "## データ読み込み"
   ]
  },
  {
   "cell_type": "code",
   "execution_count": 5,
   "id": "7318c80d-7d5e-4420-a8bf-5d90663895fe",
   "metadata": {},
   "outputs": [],
   "source": [
    "train_data = pd.read_parquet(Path(DATA_PATH, \"train.parquet\"))\n",
    "test_data = pd.read_parquet(Path(DATA_PATH, \"test.parquet\"))"
   ]
  },
  {
   "cell_type": "markdown",
   "id": "9a200e92-1404-412b-b909-9d182aef88b5",
   "metadata": {},
   "source": [
    "## モデルの学習"
   ]
  },
  {
   "cell_type": "code",
   "execution_count": 12,
   "id": "79829b89-9659-4c06-842e-17c99f57de5c",
   "metadata": {},
   "outputs": [],
   "source": [
    "# サンプリング（時間短縮のため）\n",
    "sample_train_data = train_data.sample(frac=0.2)"
   ]
  },
  {
   "cell_type": "code",
   "execution_count": 13,
   "id": "22201c40-45b1-4594-98a9-5fd66d0cfc74",
   "metadata": {},
   "outputs": [
    {
     "name": "stdout",
     "output_type": "stream",
     "text": [
      "X_trainのshape:(462000, 695)\n",
      "y_trainのshape:(462000,)\n",
      "X_validのshape:(198000, 695)\n",
      "y_validのshape:(198000,)\n"
     ]
    }
   ],
   "source": [
    "# データ分割\n",
    "# TODO: 時系列データであることを考慮すべき？\n",
    "feature_cols = sample_train_data.drop(columns=[\"id\", \"target\"]).columns\n",
    "target_col = \"target\"\n",
    "X_train, X_valid, y_train, y_valid = train_test_split(\n",
    "    sample_train_data[feature_cols], \n",
    "    sample_train_data[target_col], \n",
    "    test_size=0.3\n",
    ")\n",
    "print(f'X_trainのshape:{X_train.shape}')\n",
    "print(f'y_trainのshape:{y_train.shape}')\n",
    "print(f'X_validのshape:{X_valid.shape}')\n",
    "print(f'y_validのshape:{y_valid.shape}')"
   ]
  },
  {
   "cell_type": "code",
   "execution_count": 14,
   "id": "5487c571-1d1b-457d-b529-238f9e52054a",
   "metadata": {},
   "outputs": [],
   "source": [
    "# パラメータの準備\n",
    "params = {\n",
    "    'boosting_type':'gbdt',\n",
    "    'objective':'regression',\n",
    "    'metric': 'rmse',\n",
    "    'num_leaves':16,\n",
    "    'learning_rate':0.1,\n",
    "    'n_estimators':100000,\n",
    "    'random_state':0\n",
    "}"
   ]
  },
  {
   "cell_type": "code",
   "execution_count": 15,
   "id": "31146e13-6119-498a-a743-5e83faa8cc9b",
   "metadata": {},
   "outputs": [],
   "source": [
    "# インスタンスの作成\n",
    "clf = lgb.LGBMRegressor(**params)"
   ]
  },
  {
   "cell_type": "code",
   "execution_count": 16,
   "id": "e8e7409d-08c9-4184-a27b-e19f6a78b1b1",
   "metadata": {
    "collapsed": true,
    "jupyter": {
     "outputs_hidden": true
    },
    "tags": []
   },
   "outputs": [
    {
     "name": "stderr",
     "output_type": "stream",
     "text": [
      "/Users/ryusuke/anaconda3/envs/work/lib/python3.9/site-packages/lightgbm/sklearn.py:726: UserWarning: 'early_stopping_rounds' argument is deprecated and will be removed in a future release of LightGBM. Pass 'early_stopping()' callback via 'callbacks' argument instead.\n",
      "  _log_warning(\"'early_stopping_rounds' argument is deprecated and will be removed in a future release of LightGBM. \"\n"
     ]
    },
    {
     "name": "stdout",
     "output_type": "stream",
     "text": [
      "[1]\ttraining's rmse: 0.999121\tvalid_1's rmse: 1.00086\n",
      "[2]\ttraining's rmse: 0.998823\tvalid_1's rmse: 1.00063\n",
      "[3]\ttraining's rmse: 0.9985\tvalid_1's rmse: 1.00039\n",
      "[4]\ttraining's rmse: 0.998214\tvalid_1's rmse: 1.00016\n",
      "[5]\ttraining's rmse: 0.99796\tvalid_1's rmse: 0.999965\n",
      "[6]\ttraining's rmse: 0.997724\tvalid_1's rmse: 0.999764\n",
      "[7]\ttraining's rmse: 0.997486\tvalid_1's rmse: 0.999577\n",
      "[8]\ttraining's rmse: 0.997255\tvalid_1's rmse: 0.999388\n",
      "[9]\ttraining's rmse: 0.997013\tvalid_1's rmse: 0.999202\n",
      "[10]\ttraining's rmse: 0.996826\tvalid_1's rmse: 0.999062\n",
      "[11]\ttraining's rmse: 0.99663\tvalid_1's rmse: 0.998897\n",
      "[12]\ttraining's rmse: 0.996399\tvalid_1's rmse: 0.998734\n",
      "[13]\ttraining's rmse: 0.99619\tvalid_1's rmse: 0.998586\n",
      "[14]\ttraining's rmse: 0.995988\tvalid_1's rmse: 0.998431\n",
      "[15]\ttraining's rmse: 0.995821\tvalid_1's rmse: 0.998297\n",
      "[16]\ttraining's rmse: 0.995634\tvalid_1's rmse: 0.998187\n",
      "[17]\ttraining's rmse: 0.995461\tvalid_1's rmse: 0.998035\n",
      "[18]\ttraining's rmse: 0.995297\tvalid_1's rmse: 0.997943\n",
      "[19]\ttraining's rmse: 0.99511\tvalid_1's rmse: 0.997838\n",
      "[20]\ttraining's rmse: 0.994946\tvalid_1's rmse: 0.99771\n",
      "[21]\ttraining's rmse: 0.994767\tvalid_1's rmse: 0.997575\n",
      "[22]\ttraining's rmse: 0.9946\tvalid_1's rmse: 0.997464\n",
      "[23]\ttraining's rmse: 0.994438\tvalid_1's rmse: 0.997313\n",
      "[24]\ttraining's rmse: 0.994295\tvalid_1's rmse: 0.997246\n",
      "[25]\ttraining's rmse: 0.994138\tvalid_1's rmse: 0.997146\n",
      "[26]\ttraining's rmse: 0.993988\tvalid_1's rmse: 0.997039\n",
      "[27]\ttraining's rmse: 0.993809\tvalid_1's rmse: 0.996936\n",
      "[28]\ttraining's rmse: 0.99365\tvalid_1's rmse: 0.996838\n",
      "[29]\ttraining's rmse: 0.99352\tvalid_1's rmse: 0.99678\n",
      "[30]\ttraining's rmse: 0.993378\tvalid_1's rmse: 0.996714\n",
      "[31]\ttraining's rmse: 0.993214\tvalid_1's rmse: 0.996615\n",
      "[32]\ttraining's rmse: 0.993029\tvalid_1's rmse: 0.996505\n",
      "[33]\ttraining's rmse: 0.992875\tvalid_1's rmse: 0.996417\n",
      "[34]\ttraining's rmse: 0.992705\tvalid_1's rmse: 0.996307\n",
      "[35]\ttraining's rmse: 0.992579\tvalid_1's rmse: 0.996211\n",
      "[36]\ttraining's rmse: 0.992373\tvalid_1's rmse: 0.996049\n",
      "[37]\ttraining's rmse: 0.992225\tvalid_1's rmse: 0.995947\n",
      "[38]\ttraining's rmse: 0.992037\tvalid_1's rmse: 0.995844\n",
      "[39]\ttraining's rmse: 0.991887\tvalid_1's rmse: 0.995737\n",
      "[40]\ttraining's rmse: 0.99171\tvalid_1's rmse: 0.995666\n",
      "[41]\ttraining's rmse: 0.991566\tvalid_1's rmse: 0.995586\n",
      "[42]\ttraining's rmse: 0.991404\tvalid_1's rmse: 0.995509\n",
      "[43]\ttraining's rmse: 0.991231\tvalid_1's rmse: 0.995414\n",
      "[44]\ttraining's rmse: 0.991072\tvalid_1's rmse: 0.9953\n",
      "[45]\ttraining's rmse: 0.990904\tvalid_1's rmse: 0.99519\n",
      "[46]\ttraining's rmse: 0.990747\tvalid_1's rmse: 0.995102\n",
      "[47]\ttraining's rmse: 0.990598\tvalid_1's rmse: 0.995027\n",
      "[48]\ttraining's rmse: 0.990442\tvalid_1's rmse: 0.994932\n",
      "[49]\ttraining's rmse: 0.990285\tvalid_1's rmse: 0.994857\n",
      "[50]\ttraining's rmse: 0.990151\tvalid_1's rmse: 0.994762\n",
      "[51]\ttraining's rmse: 0.989959\tvalid_1's rmse: 0.994658\n",
      "[52]\ttraining's rmse: 0.989822\tvalid_1's rmse: 0.994573\n",
      "[53]\ttraining's rmse: 0.989669\tvalid_1's rmse: 0.994489\n",
      "[54]\ttraining's rmse: 0.989549\tvalid_1's rmse: 0.994435\n",
      "[55]\ttraining's rmse: 0.989402\tvalid_1's rmse: 0.99433\n",
      "[56]\ttraining's rmse: 0.989269\tvalid_1's rmse: 0.994241\n",
      "[57]\ttraining's rmse: 0.989142\tvalid_1's rmse: 0.994169\n",
      "[58]\ttraining's rmse: 0.988995\tvalid_1's rmse: 0.994094\n",
      "[59]\ttraining's rmse: 0.988873\tvalid_1's rmse: 0.994024\n",
      "[60]\ttraining's rmse: 0.988733\tvalid_1's rmse: 0.993934\n",
      "[61]\ttraining's rmse: 0.988571\tvalid_1's rmse: 0.993831\n",
      "[62]\ttraining's rmse: 0.988432\tvalid_1's rmse: 0.99374\n",
      "[63]\ttraining's rmse: 0.988294\tvalid_1's rmse: 0.993695\n",
      "[64]\ttraining's rmse: 0.988187\tvalid_1's rmse: 0.99364\n",
      "[65]\ttraining's rmse: 0.988026\tvalid_1's rmse: 0.993541\n",
      "[66]\ttraining's rmse: 0.987889\tvalid_1's rmse: 0.993468\n",
      "[67]\ttraining's rmse: 0.98772\tvalid_1's rmse: 0.993382\n",
      "[68]\ttraining's rmse: 0.987554\tvalid_1's rmse: 0.993295\n",
      "[69]\ttraining's rmse: 0.987422\tvalid_1's rmse: 0.993215\n",
      "[70]\ttraining's rmse: 0.987307\tvalid_1's rmse: 0.993153\n",
      "[71]\ttraining's rmse: 0.987162\tvalid_1's rmse: 0.993083\n",
      "[72]\ttraining's rmse: 0.987012\tvalid_1's rmse: 0.993019\n",
      "[73]\ttraining's rmse: 0.986877\tvalid_1's rmse: 0.992953\n",
      "[74]\ttraining's rmse: 0.986718\tvalid_1's rmse: 0.992843\n",
      "[75]\ttraining's rmse: 0.986597\tvalid_1's rmse: 0.992772\n",
      "[76]\ttraining's rmse: 0.986482\tvalid_1's rmse: 0.992716\n",
      "[77]\ttraining's rmse: 0.986387\tvalid_1's rmse: 0.992662\n",
      "[78]\ttraining's rmse: 0.986293\tvalid_1's rmse: 0.99261\n",
      "[79]\ttraining's rmse: 0.986186\tvalid_1's rmse: 0.992582\n",
      "[80]\ttraining's rmse: 0.986061\tvalid_1's rmse: 0.992528\n",
      "[81]\ttraining's rmse: 0.985927\tvalid_1's rmse: 0.992443\n",
      "[82]\ttraining's rmse: 0.985799\tvalid_1's rmse: 0.992374\n",
      "[83]\ttraining's rmse: 0.985659\tvalid_1's rmse: 0.992292\n",
      "[84]\ttraining's rmse: 0.985544\tvalid_1's rmse: 0.99223\n",
      "[85]\ttraining's rmse: 0.985418\tvalid_1's rmse: 0.992158\n",
      "[86]\ttraining's rmse: 0.98525\tvalid_1's rmse: 0.99203\n",
      "[87]\ttraining's rmse: 0.985116\tvalid_1's rmse: 0.991946\n",
      "[88]\ttraining's rmse: 0.985\tvalid_1's rmse: 0.991869\n",
      "[89]\ttraining's rmse: 0.984869\tvalid_1's rmse: 0.991783\n",
      "[90]\ttraining's rmse: 0.984742\tvalid_1's rmse: 0.991687\n",
      "[91]\ttraining's rmse: 0.984622\tvalid_1's rmse: 0.991623\n",
      "[92]\ttraining's rmse: 0.98453\tvalid_1's rmse: 0.991591\n",
      "[93]\ttraining's rmse: 0.984406\tvalid_1's rmse: 0.991538\n",
      "[94]\ttraining's rmse: 0.984323\tvalid_1's rmse: 0.991506\n",
      "[95]\ttraining's rmse: 0.984199\tvalid_1's rmse: 0.991443\n",
      "[96]\ttraining's rmse: 0.984085\tvalid_1's rmse: 0.991367\n",
      "[97]\ttraining's rmse: 0.983948\tvalid_1's rmse: 0.991303\n",
      "[98]\ttraining's rmse: 0.983802\tvalid_1's rmse: 0.991218\n",
      "[99]\ttraining's rmse: 0.983657\tvalid_1's rmse: 0.991109\n",
      "[100]\ttraining's rmse: 0.983513\tvalid_1's rmse: 0.991048\n",
      "[101]\ttraining's rmse: 0.983412\tvalid_1's rmse: 0.990993\n",
      "[102]\ttraining's rmse: 0.98328\tvalid_1's rmse: 0.990926\n",
      "[103]\ttraining's rmse: 0.983181\tvalid_1's rmse: 0.990857\n",
      "[104]\ttraining's rmse: 0.983032\tvalid_1's rmse: 0.990758\n",
      "[105]\ttraining's rmse: 0.982914\tvalid_1's rmse: 0.990697\n",
      "[106]\ttraining's rmse: 0.982783\tvalid_1's rmse: 0.99061\n",
      "[107]\ttraining's rmse: 0.982631\tvalid_1's rmse: 0.990534\n",
      "[108]\ttraining's rmse: 0.982547\tvalid_1's rmse: 0.990499\n",
      "[109]\ttraining's rmse: 0.982447\tvalid_1's rmse: 0.990431\n",
      "[110]\ttraining's rmse: 0.982323\tvalid_1's rmse: 0.990363\n",
      "[111]\ttraining's rmse: 0.982228\tvalid_1's rmse: 0.99029\n",
      "[112]\ttraining's rmse: 0.982083\tvalid_1's rmse: 0.990219\n",
      "[113]\ttraining's rmse: 0.981926\tvalid_1's rmse: 0.99015\n",
      "[114]\ttraining's rmse: 0.981815\tvalid_1's rmse: 0.990095\n",
      "[115]\ttraining's rmse: 0.981678\tvalid_1's rmse: 0.989999\n",
      "[116]\ttraining's rmse: 0.981576\tvalid_1's rmse: 0.989959\n",
      "[117]\ttraining's rmse: 0.981485\tvalid_1's rmse: 0.989892\n",
      "[118]\ttraining's rmse: 0.981398\tvalid_1's rmse: 0.98984\n",
      "[119]\ttraining's rmse: 0.981261\tvalid_1's rmse: 0.989757\n",
      "[120]\ttraining's rmse: 0.981153\tvalid_1's rmse: 0.9897\n",
      "[121]\ttraining's rmse: 0.981018\tvalid_1's rmse: 0.989615\n",
      "[122]\ttraining's rmse: 0.980876\tvalid_1's rmse: 0.989531\n",
      "[123]\ttraining's rmse: 0.980749\tvalid_1's rmse: 0.989464\n",
      "[124]\ttraining's rmse: 0.980633\tvalid_1's rmse: 0.989398\n",
      "[125]\ttraining's rmse: 0.980485\tvalid_1's rmse: 0.989327\n",
      "[126]\ttraining's rmse: 0.980393\tvalid_1's rmse: 0.989247\n",
      "[127]\ttraining's rmse: 0.980276\tvalid_1's rmse: 0.989171\n",
      "[128]\ttraining's rmse: 0.980145\tvalid_1's rmse: 0.989096\n",
      "[129]\ttraining's rmse: 0.98007\tvalid_1's rmse: 0.989085\n",
      "[130]\ttraining's rmse: 0.979985\tvalid_1's rmse: 0.989046\n",
      "[131]\ttraining's rmse: 0.979855\tvalid_1's rmse: 0.988967\n",
      "[132]\ttraining's rmse: 0.979769\tvalid_1's rmse: 0.988957\n",
      "[133]\ttraining's rmse: 0.979685\tvalid_1's rmse: 0.988934\n",
      "[134]\ttraining's rmse: 0.979572\tvalid_1's rmse: 0.988863\n",
      "[135]\ttraining's rmse: 0.979436\tvalid_1's rmse: 0.988769\n",
      "[136]\ttraining's rmse: 0.979311\tvalid_1's rmse: 0.988691\n",
      "[137]\ttraining's rmse: 0.979202\tvalid_1's rmse: 0.98866\n",
      "[138]\ttraining's rmse: 0.979077\tvalid_1's rmse: 0.98859\n",
      "[139]\ttraining's rmse: 0.978955\tvalid_1's rmse: 0.988526\n",
      "[140]\ttraining's rmse: 0.978832\tvalid_1's rmse: 0.988463\n",
      "[141]\ttraining's rmse: 0.978728\tvalid_1's rmse: 0.988432\n",
      "[142]\ttraining's rmse: 0.978603\tvalid_1's rmse: 0.988377\n",
      "[143]\ttraining's rmse: 0.978454\tvalid_1's rmse: 0.988303\n",
      "[144]\ttraining's rmse: 0.978353\tvalid_1's rmse: 0.988252\n",
      "[145]\ttraining's rmse: 0.978283\tvalid_1's rmse: 0.988239\n",
      "[146]\ttraining's rmse: 0.978158\tvalid_1's rmse: 0.988175\n",
      "[147]\ttraining's rmse: 0.978083\tvalid_1's rmse: 0.988155\n",
      "[148]\ttraining's rmse: 0.977984\tvalid_1's rmse: 0.988119\n",
      "[149]\ttraining's rmse: 0.977881\tvalid_1's rmse: 0.988051\n",
      "[150]\ttraining's rmse: 0.977723\tvalid_1's rmse: 0.987973\n",
      "[151]\ttraining's rmse: 0.977633\tvalid_1's rmse: 0.987927\n",
      "[152]\ttraining's rmse: 0.977522\tvalid_1's rmse: 0.987851\n",
      "[153]\ttraining's rmse: 0.977437\tvalid_1's rmse: 0.9878\n",
      "[154]\ttraining's rmse: 0.977338\tvalid_1's rmse: 0.987734\n",
      "[155]\ttraining's rmse: 0.977253\tvalid_1's rmse: 0.987696\n",
      "[156]\ttraining's rmse: 0.977151\tvalid_1's rmse: 0.987622\n",
      "[157]\ttraining's rmse: 0.977002\tvalid_1's rmse: 0.987529\n",
      "[158]\ttraining's rmse: 0.976895\tvalid_1's rmse: 0.987477\n",
      "[159]\ttraining's rmse: 0.976767\tvalid_1's rmse: 0.987413\n",
      "[160]\ttraining's rmse: 0.976641\tvalid_1's rmse: 0.987364\n",
      "[161]\ttraining's rmse: 0.976511\tvalid_1's rmse: 0.987301\n",
      "[162]\ttraining's rmse: 0.97637\tvalid_1's rmse: 0.987234\n",
      "[163]\ttraining's rmse: 0.976303\tvalid_1's rmse: 0.987221\n",
      "[164]\ttraining's rmse: 0.976207\tvalid_1's rmse: 0.987163\n",
      "[165]\ttraining's rmse: 0.976122\tvalid_1's rmse: 0.987138\n",
      "[166]\ttraining's rmse: 0.975998\tvalid_1's rmse: 0.987079\n",
      "[167]\ttraining's rmse: 0.975907\tvalid_1's rmse: 0.987052\n",
      "[168]\ttraining's rmse: 0.975759\tvalid_1's rmse: 0.986977\n",
      "[169]\ttraining's rmse: 0.975681\tvalid_1's rmse: 0.986924\n",
      "[170]\ttraining's rmse: 0.975573\tvalid_1's rmse: 0.986877\n",
      "[171]\ttraining's rmse: 0.975506\tvalid_1's rmse: 0.986846\n",
      "[172]\ttraining's rmse: 0.975422\tvalid_1's rmse: 0.986836\n",
      "[173]\ttraining's rmse: 0.975334\tvalid_1's rmse: 0.986804\n",
      "[174]\ttraining's rmse: 0.975249\tvalid_1's rmse: 0.98678\n",
      "[175]\ttraining's rmse: 0.975131\tvalid_1's rmse: 0.986698\n",
      "[176]\ttraining's rmse: 0.975034\tvalid_1's rmse: 0.986651\n",
      "[177]\ttraining's rmse: 0.974938\tvalid_1's rmse: 0.986619\n",
      "[178]\ttraining's rmse: 0.974838\tvalid_1's rmse: 0.986584\n",
      "[179]\ttraining's rmse: 0.974747\tvalid_1's rmse: 0.986548\n",
      "[180]\ttraining's rmse: 0.974673\tvalid_1's rmse: 0.986505\n",
      "[181]\ttraining's rmse: 0.974552\tvalid_1's rmse: 0.986438\n",
      "[182]\ttraining's rmse: 0.974474\tvalid_1's rmse: 0.986429\n",
      "[183]\ttraining's rmse: 0.974394\tvalid_1's rmse: 0.986384\n",
      "[184]\ttraining's rmse: 0.974325\tvalid_1's rmse: 0.986362\n",
      "[185]\ttraining's rmse: 0.974233\tvalid_1's rmse: 0.986325\n",
      "[186]\ttraining's rmse: 0.974106\tvalid_1's rmse: 0.986253\n",
      "[187]\ttraining's rmse: 0.974006\tvalid_1's rmse: 0.986178\n",
      "[188]\ttraining's rmse: 0.973897\tvalid_1's rmse: 0.986113\n",
      "[189]\ttraining's rmse: 0.973806\tvalid_1's rmse: 0.986085\n",
      "[190]\ttraining's rmse: 0.973709\tvalid_1's rmse: 0.986013\n",
      "[191]\ttraining's rmse: 0.973602\tvalid_1's rmse: 0.985997\n",
      "[192]\ttraining's rmse: 0.973507\tvalid_1's rmse: 0.985952\n",
      "[193]\ttraining's rmse: 0.973401\tvalid_1's rmse: 0.985888\n",
      "[194]\ttraining's rmse: 0.973278\tvalid_1's rmse: 0.985806\n",
      "[195]\ttraining's rmse: 0.973175\tvalid_1's rmse: 0.985775\n",
      "[196]\ttraining's rmse: 0.973067\tvalid_1's rmse: 0.985727\n",
      "[197]\ttraining's rmse: 0.972987\tvalid_1's rmse: 0.985677\n",
      "[198]\ttraining's rmse: 0.972872\tvalid_1's rmse: 0.985645\n",
      "[199]\ttraining's rmse: 0.972739\tvalid_1's rmse: 0.985571\n",
      "[200]\ttraining's rmse: 0.972621\tvalid_1's rmse: 0.985508\n",
      "[201]\ttraining's rmse: 0.972536\tvalid_1's rmse: 0.985475\n",
      "[202]\ttraining's rmse: 0.972427\tvalid_1's rmse: 0.985401\n",
      "[203]\ttraining's rmse: 0.972315\tvalid_1's rmse: 0.985348\n",
      "[204]\ttraining's rmse: 0.972169\tvalid_1's rmse: 0.985269\n",
      "[205]\ttraining's rmse: 0.972055\tvalid_1's rmse: 0.985205\n",
      "[206]\ttraining's rmse: 0.971929\tvalid_1's rmse: 0.985102\n",
      "[207]\ttraining's rmse: 0.971832\tvalid_1's rmse: 0.985056\n",
      "[208]\ttraining's rmse: 0.971738\tvalid_1's rmse: 0.984996\n",
      "[209]\ttraining's rmse: 0.971598\tvalid_1's rmse: 0.984916\n",
      "[210]\ttraining's rmse: 0.971515\tvalid_1's rmse: 0.984883\n",
      "[211]\ttraining's rmse: 0.971405\tvalid_1's rmse: 0.984826\n",
      "[212]\ttraining's rmse: 0.971306\tvalid_1's rmse: 0.984783\n",
      "[213]\ttraining's rmse: 0.97116\tvalid_1's rmse: 0.984679\n",
      "[214]\ttraining's rmse: 0.971047\tvalid_1's rmse: 0.9846\n",
      "[215]\ttraining's rmse: 0.970945\tvalid_1's rmse: 0.984551\n",
      "[216]\ttraining's rmse: 0.970835\tvalid_1's rmse: 0.984515\n",
      "[217]\ttraining's rmse: 0.970737\tvalid_1's rmse: 0.984433\n",
      "[218]\ttraining's rmse: 0.970614\tvalid_1's rmse: 0.984347\n",
      "[219]\ttraining's rmse: 0.970517\tvalid_1's rmse: 0.984278\n",
      "[220]\ttraining's rmse: 0.970422\tvalid_1's rmse: 0.984247\n",
      "[221]\ttraining's rmse: 0.970281\tvalid_1's rmse: 0.984215\n",
      "[222]\ttraining's rmse: 0.970216\tvalid_1's rmse: 0.984188\n",
      "[223]\ttraining's rmse: 0.970129\tvalid_1's rmse: 0.984124\n",
      "[224]\ttraining's rmse: 0.970032\tvalid_1's rmse: 0.984062\n",
      "[225]\ttraining's rmse: 0.969959\tvalid_1's rmse: 0.984041\n",
      "[226]\ttraining's rmse: 0.969853\tvalid_1's rmse: 0.983959\n",
      "[227]\ttraining's rmse: 0.969742\tvalid_1's rmse: 0.983892\n",
      "[228]\ttraining's rmse: 0.969623\tvalid_1's rmse: 0.983846\n",
      "[229]\ttraining's rmse: 0.969529\tvalid_1's rmse: 0.983805\n",
      "[230]\ttraining's rmse: 0.969452\tvalid_1's rmse: 0.983794\n",
      "[231]\ttraining's rmse: 0.96931\tvalid_1's rmse: 0.983688\n",
      "[232]\ttraining's rmse: 0.969189\tvalid_1's rmse: 0.983603\n",
      "[233]\ttraining's rmse: 0.969082\tvalid_1's rmse: 0.983547\n",
      "[234]\ttraining's rmse: 0.968969\tvalid_1's rmse: 0.983487\n",
      "[235]\ttraining's rmse: 0.968808\tvalid_1's rmse: 0.983425\n",
      "[236]\ttraining's rmse: 0.968713\tvalid_1's rmse: 0.983361\n",
      "[237]\ttraining's rmse: 0.968579\tvalid_1's rmse: 0.983259\n",
      "[238]\ttraining's rmse: 0.968475\tvalid_1's rmse: 0.983198\n",
      "[239]\ttraining's rmse: 0.968371\tvalid_1's rmse: 0.983131\n",
      "[240]\ttraining's rmse: 0.96828\tvalid_1's rmse: 0.983095\n"
     ]
    },
    {
     "ename": "KeyboardInterrupt",
     "evalue": "",
     "output_type": "error",
     "traceback": [
      "\u001b[0;31m---------------------------------------------------------------------------\u001b[0m",
      "\u001b[0;31mKeyboardInterrupt\u001b[0m                         Traceback (most recent call last)",
      "Cell \u001b[0;32mIn [16], line 3\u001b[0m\n\u001b[1;32m      1\u001b[0m \u001b[38;5;66;03m# モデルの学習\u001b[39;00m\n\u001b[1;32m      2\u001b[0m start_time \u001b[38;5;241m=\u001b[39m time\u001b[38;5;241m.\u001b[39mtime()\n\u001b[0;32m----> 3\u001b[0m \u001b[43mclf\u001b[49m\u001b[38;5;241;43m.\u001b[39;49m\u001b[43mfit\u001b[49m\u001b[43m(\u001b[49m\n\u001b[1;32m      4\u001b[0m \u001b[43m    \u001b[49m\u001b[43mX_train\u001b[49m\u001b[43m,\u001b[49m\u001b[43m \u001b[49m\n\u001b[1;32m      5\u001b[0m \u001b[43m    \u001b[49m\u001b[43my_train\u001b[49m\u001b[43m,\u001b[49m\n\u001b[1;32m      6\u001b[0m \u001b[43m    \u001b[49m\u001b[43meval_set\u001b[49m\u001b[38;5;241;43m=\u001b[39;49m\u001b[43m[\u001b[49m\u001b[43m(\u001b[49m\u001b[43mX_train\u001b[49m\u001b[43m,\u001b[49m\u001b[43m \u001b[49m\u001b[43my_train\u001b[49m\u001b[43m)\u001b[49m\u001b[43m,\u001b[49m\u001b[43m(\u001b[49m\u001b[43mX_valid\u001b[49m\u001b[43m,\u001b[49m\u001b[43m \u001b[49m\u001b[43my_valid\u001b[49m\u001b[43m)\u001b[49m\u001b[43m]\u001b[49m\u001b[43m,\u001b[49m\n\u001b[1;32m      7\u001b[0m \u001b[43m    \u001b[49m\u001b[43mearly_stopping_rounds\u001b[49m\u001b[38;5;241;43m=\u001b[39;49m\u001b[38;5;241;43m10\u001b[39;49m\n\u001b[1;32m      8\u001b[0m \u001b[43m)\u001b[49m\n\u001b[1;32m      9\u001b[0m \u001b[38;5;28mprint\u001b[39m(\u001b[38;5;124mf\u001b[39m\u001b[38;5;124m\"\u001b[39m\u001b[38;5;124m学習にかかった時間：\u001b[39m\u001b[38;5;132;01m{\u001b[39;00mtime\u001b[38;5;241m.\u001b[39mtime() \u001b[38;5;241m-\u001b[39m start_time\u001b[38;5;132;01m}\u001b[39;00m\u001b[38;5;124m\"\u001b[39m)\n",
      "File \u001b[0;32m~/anaconda3/envs/work/lib/python3.9/site-packages/lightgbm/sklearn.py:895\u001b[0m, in \u001b[0;36mLGBMRegressor.fit\u001b[0;34m(self, X, y, sample_weight, init_score, eval_set, eval_names, eval_sample_weight, eval_init_score, eval_metric, early_stopping_rounds, verbose, feature_name, categorical_feature, callbacks, init_model)\u001b[0m\n\u001b[1;32m    888\u001b[0m \u001b[38;5;28;01mdef\u001b[39;00m \u001b[38;5;21mfit\u001b[39m(\u001b[38;5;28mself\u001b[39m, X, y,\n\u001b[1;32m    889\u001b[0m         sample_weight\u001b[38;5;241m=\u001b[39m\u001b[38;5;28;01mNone\u001b[39;00m, init_score\u001b[38;5;241m=\u001b[39m\u001b[38;5;28;01mNone\u001b[39;00m,\n\u001b[1;32m    890\u001b[0m         eval_set\u001b[38;5;241m=\u001b[39m\u001b[38;5;28;01mNone\u001b[39;00m, eval_names\u001b[38;5;241m=\u001b[39m\u001b[38;5;28;01mNone\u001b[39;00m, eval_sample_weight\u001b[38;5;241m=\u001b[39m\u001b[38;5;28;01mNone\u001b[39;00m,\n\u001b[1;32m    891\u001b[0m         eval_init_score\u001b[38;5;241m=\u001b[39m\u001b[38;5;28;01mNone\u001b[39;00m, eval_metric\u001b[38;5;241m=\u001b[39m\u001b[38;5;28;01mNone\u001b[39;00m, early_stopping_rounds\u001b[38;5;241m=\u001b[39m\u001b[38;5;28;01mNone\u001b[39;00m,\n\u001b[1;32m    892\u001b[0m         verbose\u001b[38;5;241m=\u001b[39m\u001b[38;5;124m'\u001b[39m\u001b[38;5;124mwarn\u001b[39m\u001b[38;5;124m'\u001b[39m, feature_name\u001b[38;5;241m=\u001b[39m\u001b[38;5;124m'\u001b[39m\u001b[38;5;124mauto\u001b[39m\u001b[38;5;124m'\u001b[39m, categorical_feature\u001b[38;5;241m=\u001b[39m\u001b[38;5;124m'\u001b[39m\u001b[38;5;124mauto\u001b[39m\u001b[38;5;124m'\u001b[39m,\n\u001b[1;32m    893\u001b[0m         callbacks\u001b[38;5;241m=\u001b[39m\u001b[38;5;28;01mNone\u001b[39;00m, init_model\u001b[38;5;241m=\u001b[39m\u001b[38;5;28;01mNone\u001b[39;00m):\n\u001b[1;32m    894\u001b[0m     \u001b[38;5;124;03m\"\"\"Docstring is inherited from the LGBMModel.\"\"\"\u001b[39;00m\n\u001b[0;32m--> 895\u001b[0m     \u001b[38;5;28;43msuper\u001b[39;49m\u001b[43m(\u001b[49m\u001b[43m)\u001b[49m\u001b[38;5;241;43m.\u001b[39;49m\u001b[43mfit\u001b[49m\u001b[43m(\u001b[49m\u001b[43mX\u001b[49m\u001b[43m,\u001b[49m\u001b[43m \u001b[49m\u001b[43my\u001b[49m\u001b[43m,\u001b[49m\u001b[43m \u001b[49m\u001b[43msample_weight\u001b[49m\u001b[38;5;241;43m=\u001b[39;49m\u001b[43msample_weight\u001b[49m\u001b[43m,\u001b[49m\u001b[43m \u001b[49m\u001b[43minit_score\u001b[49m\u001b[38;5;241;43m=\u001b[39;49m\u001b[43minit_score\u001b[49m\u001b[43m,\u001b[49m\n\u001b[1;32m    896\u001b[0m \u001b[43m                \u001b[49m\u001b[43meval_set\u001b[49m\u001b[38;5;241;43m=\u001b[39;49m\u001b[43meval_set\u001b[49m\u001b[43m,\u001b[49m\u001b[43m \u001b[49m\u001b[43meval_names\u001b[49m\u001b[38;5;241;43m=\u001b[39;49m\u001b[43meval_names\u001b[49m\u001b[43m,\u001b[49m\u001b[43m \u001b[49m\u001b[43meval_sample_weight\u001b[49m\u001b[38;5;241;43m=\u001b[39;49m\u001b[43meval_sample_weight\u001b[49m\u001b[43m,\u001b[49m\n\u001b[1;32m    897\u001b[0m \u001b[43m                \u001b[49m\u001b[43meval_init_score\u001b[49m\u001b[38;5;241;43m=\u001b[39;49m\u001b[43meval_init_score\u001b[49m\u001b[43m,\u001b[49m\u001b[43m \u001b[49m\u001b[43meval_metric\u001b[49m\u001b[38;5;241;43m=\u001b[39;49m\u001b[43meval_metric\u001b[49m\u001b[43m,\u001b[49m\n\u001b[1;32m    898\u001b[0m \u001b[43m                \u001b[49m\u001b[43mearly_stopping_rounds\u001b[49m\u001b[38;5;241;43m=\u001b[39;49m\u001b[43mearly_stopping_rounds\u001b[49m\u001b[43m,\u001b[49m\u001b[43m \u001b[49m\u001b[43mverbose\u001b[49m\u001b[38;5;241;43m=\u001b[39;49m\u001b[43mverbose\u001b[49m\u001b[43m,\u001b[49m\u001b[43m \u001b[49m\u001b[43mfeature_name\u001b[49m\u001b[38;5;241;43m=\u001b[39;49m\u001b[43mfeature_name\u001b[49m\u001b[43m,\u001b[49m\n\u001b[1;32m    899\u001b[0m \u001b[43m                \u001b[49m\u001b[43mcategorical_feature\u001b[49m\u001b[38;5;241;43m=\u001b[39;49m\u001b[43mcategorical_feature\u001b[49m\u001b[43m,\u001b[49m\u001b[43m \u001b[49m\u001b[43mcallbacks\u001b[49m\u001b[38;5;241;43m=\u001b[39;49m\u001b[43mcallbacks\u001b[49m\u001b[43m,\u001b[49m\u001b[43m \u001b[49m\u001b[43minit_model\u001b[49m\u001b[38;5;241;43m=\u001b[39;49m\u001b[43minit_model\u001b[49m\u001b[43m)\u001b[49m\n\u001b[1;32m    900\u001b[0m     \u001b[38;5;28;01mreturn\u001b[39;00m \u001b[38;5;28mself\u001b[39m\n",
      "File \u001b[0;32m~/anaconda3/envs/work/lib/python3.9/site-packages/lightgbm/sklearn.py:748\u001b[0m, in \u001b[0;36mLGBMModel.fit\u001b[0;34m(self, X, y, sample_weight, init_score, group, eval_set, eval_names, eval_sample_weight, eval_class_weight, eval_init_score, eval_group, eval_metric, early_stopping_rounds, verbose, feature_name, categorical_feature, callbacks, init_model)\u001b[0m\n\u001b[1;32m    745\u001b[0m evals_result \u001b[38;5;241m=\u001b[39m {}\n\u001b[1;32m    746\u001b[0m callbacks\u001b[38;5;241m.\u001b[39mappend(record_evaluation(evals_result))\n\u001b[0;32m--> 748\u001b[0m \u001b[38;5;28mself\u001b[39m\u001b[38;5;241m.\u001b[39m_Booster \u001b[38;5;241m=\u001b[39m \u001b[43mtrain\u001b[49m\u001b[43m(\u001b[49m\n\u001b[1;32m    749\u001b[0m \u001b[43m    \u001b[49m\u001b[43mparams\u001b[49m\u001b[38;5;241;43m=\u001b[39;49m\u001b[43mparams\u001b[49m\u001b[43m,\u001b[49m\n\u001b[1;32m    750\u001b[0m \u001b[43m    \u001b[49m\u001b[43mtrain_set\u001b[49m\u001b[38;5;241;43m=\u001b[39;49m\u001b[43mtrain_set\u001b[49m\u001b[43m,\u001b[49m\n\u001b[1;32m    751\u001b[0m \u001b[43m    \u001b[49m\u001b[43mnum_boost_round\u001b[49m\u001b[38;5;241;43m=\u001b[39;49m\u001b[38;5;28;43mself\u001b[39;49m\u001b[38;5;241;43m.\u001b[39;49m\u001b[43mn_estimators\u001b[49m\u001b[43m,\u001b[49m\n\u001b[1;32m    752\u001b[0m \u001b[43m    \u001b[49m\u001b[43mvalid_sets\u001b[49m\u001b[38;5;241;43m=\u001b[39;49m\u001b[43mvalid_sets\u001b[49m\u001b[43m,\u001b[49m\n\u001b[1;32m    753\u001b[0m \u001b[43m    \u001b[49m\u001b[43mvalid_names\u001b[49m\u001b[38;5;241;43m=\u001b[39;49m\u001b[43meval_names\u001b[49m\u001b[43m,\u001b[49m\n\u001b[1;32m    754\u001b[0m \u001b[43m    \u001b[49m\u001b[43mfobj\u001b[49m\u001b[38;5;241;43m=\u001b[39;49m\u001b[38;5;28;43mself\u001b[39;49m\u001b[38;5;241;43m.\u001b[39;49m\u001b[43m_fobj\u001b[49m\u001b[43m,\u001b[49m\n\u001b[1;32m    755\u001b[0m \u001b[43m    \u001b[49m\u001b[43mfeval\u001b[49m\u001b[38;5;241;43m=\u001b[39;49m\u001b[43meval_metrics_callable\u001b[49m\u001b[43m,\u001b[49m\n\u001b[1;32m    756\u001b[0m \u001b[43m    \u001b[49m\u001b[43minit_model\u001b[49m\u001b[38;5;241;43m=\u001b[39;49m\u001b[43minit_model\u001b[49m\u001b[43m,\u001b[49m\n\u001b[1;32m    757\u001b[0m \u001b[43m    \u001b[49m\u001b[43mfeature_name\u001b[49m\u001b[38;5;241;43m=\u001b[39;49m\u001b[43mfeature_name\u001b[49m\u001b[43m,\u001b[49m\n\u001b[1;32m    758\u001b[0m \u001b[43m    \u001b[49m\u001b[43mcallbacks\u001b[49m\u001b[38;5;241;43m=\u001b[39;49m\u001b[43mcallbacks\u001b[49m\n\u001b[1;32m    759\u001b[0m \u001b[43m\u001b[49m\u001b[43m)\u001b[49m\n\u001b[1;32m    761\u001b[0m \u001b[38;5;28;01mif\u001b[39;00m evals_result:\n\u001b[1;32m    762\u001b[0m     \u001b[38;5;28mself\u001b[39m\u001b[38;5;241m.\u001b[39m_evals_result \u001b[38;5;241m=\u001b[39m evals_result\n",
      "File \u001b[0;32m~/anaconda3/envs/work/lib/python3.9/site-packages/lightgbm/engine.py:292\u001b[0m, in \u001b[0;36mtrain\u001b[0;34m(params, train_set, num_boost_round, valid_sets, valid_names, fobj, feval, init_model, feature_name, categorical_feature, early_stopping_rounds, evals_result, verbose_eval, learning_rates, keep_training_booster, callbacks)\u001b[0m\n\u001b[1;32m    284\u001b[0m \u001b[38;5;28;01mfor\u001b[39;00m cb \u001b[38;5;129;01min\u001b[39;00m callbacks_before_iter:\n\u001b[1;32m    285\u001b[0m     cb(callback\u001b[38;5;241m.\u001b[39mCallbackEnv(model\u001b[38;5;241m=\u001b[39mbooster,\n\u001b[1;32m    286\u001b[0m                             params\u001b[38;5;241m=\u001b[39mparams,\n\u001b[1;32m    287\u001b[0m                             iteration\u001b[38;5;241m=\u001b[39mi,\n\u001b[1;32m    288\u001b[0m                             begin_iteration\u001b[38;5;241m=\u001b[39minit_iteration,\n\u001b[1;32m    289\u001b[0m                             end_iteration\u001b[38;5;241m=\u001b[39minit_iteration \u001b[38;5;241m+\u001b[39m num_boost_round,\n\u001b[1;32m    290\u001b[0m                             evaluation_result_list\u001b[38;5;241m=\u001b[39m\u001b[38;5;28;01mNone\u001b[39;00m))\n\u001b[0;32m--> 292\u001b[0m \u001b[43mbooster\u001b[49m\u001b[38;5;241;43m.\u001b[39;49m\u001b[43mupdate\u001b[49m\u001b[43m(\u001b[49m\u001b[43mfobj\u001b[49m\u001b[38;5;241;43m=\u001b[39;49m\u001b[43mfobj\u001b[49m\u001b[43m)\u001b[49m\n\u001b[1;32m    294\u001b[0m evaluation_result_list \u001b[38;5;241m=\u001b[39m []\n\u001b[1;32m    295\u001b[0m \u001b[38;5;66;03m# check evaluation result.\u001b[39;00m\n",
      "File \u001b[0;32m~/anaconda3/envs/work/lib/python3.9/site-packages/lightgbm/basic.py:3021\u001b[0m, in \u001b[0;36mBooster.update\u001b[0;34m(self, train_set, fobj)\u001b[0m\n\u001b[1;32m   3019\u001b[0m \u001b[38;5;28;01mif\u001b[39;00m \u001b[38;5;28mself\u001b[39m\u001b[38;5;241m.\u001b[39m__set_objective_to_none:\n\u001b[1;32m   3020\u001b[0m     \u001b[38;5;28;01mraise\u001b[39;00m LightGBMError(\u001b[38;5;124m'\u001b[39m\u001b[38;5;124mCannot update due to null objective function.\u001b[39m\u001b[38;5;124m'\u001b[39m)\n\u001b[0;32m-> 3021\u001b[0m _safe_call(\u001b[43m_LIB\u001b[49m\u001b[38;5;241;43m.\u001b[39;49m\u001b[43mLGBM_BoosterUpdateOneIter\u001b[49m\u001b[43m(\u001b[49m\n\u001b[1;32m   3022\u001b[0m \u001b[43m    \u001b[49m\u001b[38;5;28;43mself\u001b[39;49m\u001b[38;5;241;43m.\u001b[39;49m\u001b[43mhandle\u001b[49m\u001b[43m,\u001b[49m\n\u001b[1;32m   3023\u001b[0m \u001b[43m    \u001b[49m\u001b[43mctypes\u001b[49m\u001b[38;5;241;43m.\u001b[39;49m\u001b[43mbyref\u001b[49m\u001b[43m(\u001b[49m\u001b[43mis_finished\u001b[49m\u001b[43m)\u001b[49m\u001b[43m)\u001b[49m)\n\u001b[1;32m   3024\u001b[0m \u001b[38;5;28mself\u001b[39m\u001b[38;5;241m.\u001b[39m__is_predicted_cur_iter \u001b[38;5;241m=\u001b[39m [\u001b[38;5;28;01mFalse\u001b[39;00m \u001b[38;5;28;01mfor\u001b[39;00m _ \u001b[38;5;129;01min\u001b[39;00m \u001b[38;5;28mrange\u001b[39m(\u001b[38;5;28mself\u001b[39m\u001b[38;5;241m.\u001b[39m__num_dataset)]\n\u001b[1;32m   3025\u001b[0m \u001b[38;5;28;01mreturn\u001b[39;00m is_finished\u001b[38;5;241m.\u001b[39mvalue \u001b[38;5;241m==\u001b[39m \u001b[38;5;241m1\u001b[39m\n",
      "\u001b[0;31mKeyboardInterrupt\u001b[0m: "
     ]
    }
   ],
   "source": [
    "# モデルの学習\n",
    "start_time = time.time()\n",
    "clf.fit(\n",
    "    X_train, \n",
    "    y_train,\n",
    "    eval_set=[(X_train, y_train),(X_valid, y_valid)],\n",
    "    early_stopping_rounds=100\n",
    ")\n",
    "print(f\"学習にかかった時間：{time.time() - start_time}\")"
   ]
  },
  {
   "cell_type": "code",
   "execution_count": 11,
   "id": "abf94b83-6641-44f9-a0ef-087b73ea0625",
   "metadata": {},
   "outputs": [
    {
     "name": "stdout",
     "output_type": "stream",
     "text": [
      "trainの精度：0.6031205117146435\n",
      "validの精度：0.18877603184573888\n"
     ]
    }
   ],
   "source": [
    "# 精度\n",
    "y_train_pred = clf.predict(X_train)\n",
    "y_valid_pred = clf.predict(X_valid)\n",
    "print(f\"trainの精度：{cosine_similarity(y_train, y_train_pred)}\")\n",
    "print(f\"validの精度：{cosine_similarity(y_valid, y_valid_pred)}\")"
   ]
  },
  {
   "cell_type": "markdown",
   "id": "280d7919-a54e-4daa-817e-d06c21f37748",
   "metadata": {},
   "source": [
    "## テストデータの予測"
   ]
  },
  {
   "cell_type": "code",
   "execution_count": 28,
   "id": "971e6d42-e4d4-4b72-8f3a-ea9e6f7d2a9e",
   "metadata": {},
   "outputs": [],
   "source": [
    "# 予測\n",
    "id_test = test_data[\"id\"].values.reshape(-1)\n",
    "X_test = test_data.drop(columns=[\"id\"]).copy()\n",
    "y_test_pred = clf.predict(X_test)"
   ]
  },
  {
   "cell_type": "code",
   "execution_count": 29,
   "id": "c3e8524b-18fd-475f-9a65-811cd5b63ba1",
   "metadata": {},
   "outputs": [
    {
     "data": {
      "text/html": [
       "<div>\n",
       "<style scoped>\n",
       "    .dataframe tbody tr th:only-of-type {\n",
       "        vertical-align: middle;\n",
       "    }\n",
       "\n",
       "    .dataframe tbody tr th {\n",
       "        vertical-align: top;\n",
       "    }\n",
       "\n",
       "    .dataframe thead th {\n",
       "        text-align: right;\n",
       "    }\n",
       "</style>\n",
       "<table border=\"1\" class=\"dataframe\">\n",
       "  <thead>\n",
       "    <tr style=\"text-align: right;\">\n",
       "      <th></th>\n",
       "      <th>0</th>\n",
       "    </tr>\n",
       "  </thead>\n",
       "  <tbody>\n",
       "    <tr>\n",
       "      <th>0</th>\n",
       "      <td>-0.537965</td>\n",
       "    </tr>\n",
       "    <tr>\n",
       "      <th>1</th>\n",
       "      <td>-0.062307</td>\n",
       "    </tr>\n",
       "    <tr>\n",
       "      <th>2</th>\n",
       "      <td>-0.049181</td>\n",
       "    </tr>\n",
       "    <tr>\n",
       "      <th>3</th>\n",
       "      <td>-0.126975</td>\n",
       "    </tr>\n",
       "    <tr>\n",
       "      <th>4</th>\n",
       "      <td>-0.271614</td>\n",
       "    </tr>\n",
       "    <tr>\n",
       "      <th>...</th>\n",
       "      <td>...</td>\n",
       "    </tr>\n",
       "    <tr>\n",
       "      <th>261656</th>\n",
       "      <td>-0.057380</td>\n",
       "    </tr>\n",
       "    <tr>\n",
       "      <th>261657</th>\n",
       "      <td>0.096382</td>\n",
       "    </tr>\n",
       "    <tr>\n",
       "      <th>261658</th>\n",
       "      <td>-0.125886</td>\n",
       "    </tr>\n",
       "    <tr>\n",
       "      <th>261659</th>\n",
       "      <td>-0.077150</td>\n",
       "    </tr>\n",
       "    <tr>\n",
       "      <th>261660</th>\n",
       "      <td>-0.110083</td>\n",
       "    </tr>\n",
       "  </tbody>\n",
       "</table>\n",
       "<p>261661 rows × 1 columns</p>\n",
       "</div>"
      ],
      "text/plain": [
       "               0\n",
       "0      -0.537965\n",
       "1      -0.062307\n",
       "2      -0.049181\n",
       "3      -0.126975\n",
       "4      -0.271614\n",
       "...          ...\n",
       "261656 -0.057380\n",
       "261657  0.096382\n",
       "261658 -0.125886\n",
       "261659 -0.077150\n",
       "261660 -0.110083\n",
       "\n",
       "[261661 rows x 1 columns]"
      ]
     },
     "execution_count": 29,
     "metadata": {},
     "output_type": "execute_result"
    }
   ],
   "source": [
    "pd.DataFrame(y_test_pred)"
   ]
  },
  {
   "cell_type": "code",
   "execution_count": 31,
   "id": "f86a4e90-1add-4c14-bf09-a8f60960968a",
   "metadata": {},
   "outputs": [],
   "source": [
    "# 保存\n",
    "result = pd.DataFrame(data=y_test_pred, index=id_test, columns=[\"target\"]).reset_index().rename(columns={\"index\": \"id\"})\n",
    "result.to_csv(Path(RESULT_PATH, \"20230817_result.csv\"), index=False)"
   ]
  }
 ],
 "metadata": {
  "kernelspec": {
   "display_name": "Python 3 (ipykernel)",
   "language": "python",
   "name": "python3"
  },
  "language_info": {
   "codemirror_mode": {
    "name": "ipython",
    "version": 3
   },
   "file_extension": ".py",
   "mimetype": "text/x-python",
   "name": "python",
   "nbconvert_exporter": "python",
   "pygments_lexer": "ipython3",
   "version": "3.9.15"
  }
 },
 "nbformat": 4,
 "nbformat_minor": 5
}
