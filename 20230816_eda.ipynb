{
 "cells": [
  {
   "cell_type": "code",
   "execution_count": 3,
   "id": "7d8b1d91-06fd-4277-8766-91aa65630f05",
   "metadata": {},
   "outputs": [],
   "source": [
    "import pandas as pd\n",
    "import numpy as np\n",
    "from pathlib import Path\n",
    "import plotly.express as px"
   ]
  },
  {
   "cell_type": "code",
   "execution_count": 20,
   "id": "9603a490-e942-49b7-af4e-bddf9a24a47b",
   "metadata": {},
   "outputs": [],
   "source": [
    "from sklearn.model_selection import train_test_split\n",
    "import lightgbm as lgb"
   ]
  },
  {
   "cell_type": "markdown",
   "id": "d652d1c3-02c7-4fd5-807a-acb2c7d58120",
   "metadata": {},
   "source": [
    "# 環境設定"
   ]
  },
  {
   "cell_type": "code",
   "execution_count": 2,
   "id": "c52b92ed-9748-4f74-86b8-91c7eacd9080",
   "metadata": {},
   "outputs": [],
   "source": [
    "DATA_PATH = \"./data\""
   ]
  },
  {
   "cell_type": "markdown",
   "id": "e60bf786-9526-4ca1-a377-959ad7d708c3",
   "metadata": {},
   "source": [
    "# 関数定義"
   ]
  },
  {
   "cell_type": "code",
   "execution_count": 6,
   "id": "cbad33ad-8147-4545-9847-98756d706888",
   "metadata": {},
   "outputs": [],
   "source": [
    "def count_feature_xs(df, feature_x: str):\n",
    "    return len([col for col in df.columns if feature_x in col])"
   ]
  },
  {
   "cell_type": "code",
   "execution_count": 17,
   "id": "f9a3f73d-7879-43dd-b111-520d79f88310",
   "metadata": {},
   "outputs": [],
   "source": [
    "def cosine_similarity(y_true, y_pred):\n",
    "    score = np.dot(y_true, y_pred) / (np.linalg.norm(y_ture) * np.linalg.norm(y_pred))\n",
    "    return \"cosine_similarity\", score, True"
   ]
  },
  {
   "cell_type": "markdown",
   "id": "caa5d652-f0ff-4e53-9b96-73fa808f40cc",
   "metadata": {},
   "source": [
    "# 分析"
   ]
  },
  {
   "cell_type": "markdown",
   "id": "86a425cc-5242-4587-bbd2-01a961172ade",
   "metadata": {},
   "source": [
    "## データ読み込み"
   ]
  },
  {
   "cell_type": "code",
   "execution_count": 4,
   "id": "7318c80d-7d5e-4420-a8bf-5d90663895fe",
   "metadata": {},
   "outputs": [],
   "source": [
    "train_data = pd.read_csv(Path(DATA_PATH, \"train.csv\"))"
   ]
  },
  {
   "cell_type": "markdown",
   "id": "428ace1e-e063-4c2b-abaa-43b51597fc43",
   "metadata": {},
   "source": [
    "## EDA"
   ]
  },
  {
   "cell_type": "code",
   "execution_count": 5,
   "id": "2c5ca71d-ccf3-47ac-82d2-fc540f4fc58e",
   "metadata": {},
   "outputs": [
    {
     "data": {
      "text/html": [
       "<div>\n",
       "<style scoped>\n",
       "    .dataframe tbody tr th:only-of-type {\n",
       "        vertical-align: middle;\n",
       "    }\n",
       "\n",
       "    .dataframe tbody tr th {\n",
       "        vertical-align: top;\n",
       "    }\n",
       "\n",
       "    .dataframe thead th {\n",
       "        text-align: right;\n",
       "    }\n",
       "</style>\n",
       "<table border=\"1\" class=\"dataframe\">\n",
       "  <thead>\n",
       "    <tr style=\"text-align: right;\">\n",
       "      <th></th>\n",
       "      <th>id</th>\n",
       "      <th>feature_a_000</th>\n",
       "      <th>feature_a_001</th>\n",
       "      <th>feature_a_002</th>\n",
       "      <th>feature_a_003</th>\n",
       "      <th>feature_a_004</th>\n",
       "      <th>feature_a_005</th>\n",
       "      <th>feature_a_006</th>\n",
       "      <th>feature_a_007</th>\n",
       "      <th>feature_a_008</th>\n",
       "      <th>...</th>\n",
       "      <th>feature_d_131</th>\n",
       "      <th>feature_d_132</th>\n",
       "      <th>feature_d_133</th>\n",
       "      <th>feature_d_134</th>\n",
       "      <th>feature_f_000</th>\n",
       "      <th>feature_f_001</th>\n",
       "      <th>feature_f_002</th>\n",
       "      <th>feature_f_003</th>\n",
       "      <th>feature_f_004</th>\n",
       "      <th>target</th>\n",
       "    </tr>\n",
       "  </thead>\n",
       "  <tbody>\n",
       "    <tr>\n",
       "      <th>0</th>\n",
       "      <td>0</td>\n",
       "      <td>4</td>\n",
       "      <td>5</td>\n",
       "      <td>4</td>\n",
       "      <td>5</td>\n",
       "      <td>5</td>\n",
       "      <td>1</td>\n",
       "      <td>3</td>\n",
       "      <td>1</td>\n",
       "      <td>4</td>\n",
       "      <td>...</td>\n",
       "      <td>4</td>\n",
       "      <td>2</td>\n",
       "      <td>3</td>\n",
       "      <td>2</td>\n",
       "      <td>4</td>\n",
       "      <td>2</td>\n",
       "      <td>4</td>\n",
       "      <td>1</td>\n",
       "      <td>4</td>\n",
       "      <td>0.000415</td>\n",
       "    </tr>\n",
       "    <tr>\n",
       "      <th>1</th>\n",
       "      <td>1</td>\n",
       "      <td>5</td>\n",
       "      <td>4</td>\n",
       "      <td>5</td>\n",
       "      <td>4</td>\n",
       "      <td>5</td>\n",
       "      <td>3</td>\n",
       "      <td>2</td>\n",
       "      <td>3</td>\n",
       "      <td>3</td>\n",
       "      <td>...</td>\n",
       "      <td>3</td>\n",
       "      <td>1</td>\n",
       "      <td>2</td>\n",
       "      <td>1</td>\n",
       "      <td>5</td>\n",
       "      <td>1</td>\n",
       "      <td>3</td>\n",
       "      <td>1</td>\n",
       "      <td>3</td>\n",
       "      <td>0.000415</td>\n",
       "    </tr>\n",
       "    <tr>\n",
       "      <th>2</th>\n",
       "      <td>2</td>\n",
       "      <td>1</td>\n",
       "      <td>1</td>\n",
       "      <td>5</td>\n",
       "      <td>1</td>\n",
       "      <td>2</td>\n",
       "      <td>1</td>\n",
       "      <td>1</td>\n",
       "      <td>3</td>\n",
       "      <td>1</td>\n",
       "      <td>...</td>\n",
       "      <td>4</td>\n",
       "      <td>4</td>\n",
       "      <td>3</td>\n",
       "      <td>2</td>\n",
       "      <td>1</td>\n",
       "      <td>2</td>\n",
       "      <td>3</td>\n",
       "      <td>1</td>\n",
       "      <td>3</td>\n",
       "      <td>3.039352</td>\n",
       "    </tr>\n",
       "    <tr>\n",
       "      <th>3</th>\n",
       "      <td>3</td>\n",
       "      <td>5</td>\n",
       "      <td>3</td>\n",
       "      <td>4</td>\n",
       "      <td>5</td>\n",
       "      <td>4</td>\n",
       "      <td>5</td>\n",
       "      <td>5</td>\n",
       "      <td>2</td>\n",
       "      <td>3</td>\n",
       "      <td>...</td>\n",
       "      <td>2</td>\n",
       "      <td>1</td>\n",
       "      <td>3</td>\n",
       "      <td>2</td>\n",
       "      <td>3</td>\n",
       "      <td>4</td>\n",
       "      <td>2</td>\n",
       "      <td>4</td>\n",
       "      <td>2</td>\n",
       "      <td>-0.512833</td>\n",
       "    </tr>\n",
       "    <tr>\n",
       "      <th>4</th>\n",
       "      <td>4</td>\n",
       "      <td>1</td>\n",
       "      <td>4</td>\n",
       "      <td>1</td>\n",
       "      <td>4</td>\n",
       "      <td>2</td>\n",
       "      <td>1</td>\n",
       "      <td>1</td>\n",
       "      <td>1</td>\n",
       "      <td>2</td>\n",
       "      <td>...</td>\n",
       "      <td>2</td>\n",
       "      <td>3</td>\n",
       "      <td>2</td>\n",
       "      <td>4</td>\n",
       "      <td>2</td>\n",
       "      <td>5</td>\n",
       "      <td>1</td>\n",
       "      <td>5</td>\n",
       "      <td>1</td>\n",
       "      <td>0.000415</td>\n",
       "    </tr>\n",
       "  </tbody>\n",
       "</table>\n",
       "<p>5 rows × 697 columns</p>\n",
       "</div>"
      ],
      "text/plain": [
       "   id  feature_a_000  feature_a_001  feature_a_002  feature_a_003  \\\n",
       "0   0              4              5              4              5   \n",
       "1   1              5              4              5              4   \n",
       "2   2              1              1              5              1   \n",
       "3   3              5              3              4              5   \n",
       "4   4              1              4              1              4   \n",
       "\n",
       "   feature_a_004  feature_a_005  feature_a_006  feature_a_007  feature_a_008  \\\n",
       "0              5              1              3              1              4   \n",
       "1              5              3              2              3              3   \n",
       "2              2              1              1              3              1   \n",
       "3              4              5              5              2              3   \n",
       "4              2              1              1              1              2   \n",
       "\n",
       "   ...  feature_d_131  feature_d_132  feature_d_133  feature_d_134  \\\n",
       "0  ...              4              2              3              2   \n",
       "1  ...              3              1              2              1   \n",
       "2  ...              4              4              3              2   \n",
       "3  ...              2              1              3              2   \n",
       "4  ...              2              3              2              4   \n",
       "\n",
       "   feature_f_000  feature_f_001  feature_f_002  feature_f_003  feature_f_004  \\\n",
       "0              4              2              4              1              4   \n",
       "1              5              1              3              1              3   \n",
       "2              1              2              3              1              3   \n",
       "3              3              4              2              4              2   \n",
       "4              2              5              1              5              1   \n",
       "\n",
       "     target  \n",
       "0  0.000415  \n",
       "1  0.000415  \n",
       "2  3.039352  \n",
       "3 -0.512833  \n",
       "4  0.000415  \n",
       "\n",
       "[5 rows x 697 columns]"
      ]
     },
     "execution_count": 5,
     "metadata": {},
     "output_type": "execute_result"
    }
   ],
   "source": [
    "train_data.head()"
   ]
  },
  {
   "cell_type": "code",
   "execution_count": 16,
   "id": "13e024a1-d2be-4b56-a1c2-c0a18cb7b94a",
   "metadata": {},
   "outputs": [
    {
     "name": "stdout",
     "output_type": "stream",
     "text": [
      "学習データのshape：(660000, 697)\n",
      "ユニークID数：660000\n",
      "feature_aの個数：285\n",
      "feature_bの個数：135\n",
      "feature_cの個数：135\n",
      "feature_dの個数：135\n",
      "feature_eの個数：0\n",
      "feature_fの個数：5\n"
     ]
    }
   ],
   "source": [
    "print(f\"学習データのshape：{train_data.shape}\")\n",
    "print(f\"ユニークID数：{train_data['id'].nunique()}\")\n",
    "feature_xs = [\"feature_a\", \"feature_b\", \"feature_c\", \"feature_d\", \"feature_e\", \"feature_f\"]\n",
    "for feature_x in feature_xs:\n",
    "    print(f'{feature_x}の個数：{count_feature_xs(train_data, feature_x)}')"
   ]
  },
  {
   "cell_type": "markdown",
   "id": "9a200e92-1404-412b-b909-9d182aef88b5",
   "metadata": {},
   "source": [
    "## モデル作成"
   ]
  },
  {
   "cell_type": "code",
   "execution_count": 24,
   "id": "22201c40-45b1-4594-98a9-5fd66d0cfc74",
   "metadata": {},
   "outputs": [
    {
     "name": "stdout",
     "output_type": "stream",
     "text": [
      "X_trainのshape:(462000, 695)\n",
      "y_trainのshape:(462000,)\n",
      "X_validのshape:(198000, 695)\n",
      "y_validのshape:(198000,)\n"
     ]
    }
   ],
   "source": [
    "# データ分割\n",
    "feature_cols = train_data.drop(columns=[\"id\", \"target\"]).columns\n",
    "target_col = \"target\"\n",
    "X_train, X_valid, y_train, y_valid = train_test_split(train_data[feature_cols], train_data[target_col], test_size=0.3)\n",
    "print(f'X_trainのshape:{X_train.shape}')\n",
    "print(f'y_trainのshape:{y_train.shape}')\n",
    "print(f'X_validのshape:{X_valid.shape}')\n",
    "print(f'y_validのshape:{y_valid.shape}')"
   ]
  },
  {
   "cell_type": "code",
   "execution_count": null,
   "id": "f70387f5-d1f1-4ed0-8cca-87b3521da235",
   "metadata": {},
   "outputs": [],
   "source": [
    "# サンプリング（時間短縮のため）\n"
   ]
  },
  {
   "cell_type": "code",
   "execution_count": 18,
   "id": "5487c571-1d1b-457d-b529-238f9e52054a",
   "metadata": {},
   "outputs": [],
   "source": [
    "# パラメータの準備\n",
    "params = {\n",
    "    'boosting_type':'gbdt',\n",
    "    'objective':'regression',\n",
    "    'metric':'None',\n",
    "    'num_leaves':16,\n",
    "    'learning_rate':0.1,\n",
    "    'n_estimators':100000,\n",
    "    'random_state':0\n",
    "}"
   ]
  },
  {
   "cell_type": "code",
   "execution_count": 21,
   "id": "31146e13-6119-498a-a743-5e83faa8cc9b",
   "metadata": {},
   "outputs": [],
   "source": [
    "# インスタンスの作成\n",
    "clf = lgb.LGBMClassifier(**params)"
   ]
  },
  {
   "cell_type": "code",
   "execution_count": null,
   "id": "e8e7409d-08c9-4184-a27b-e19f6a78b1b1",
   "metadata": {},
   "outputs": [],
   "source": [
    "# モデルの学習\n",
    "clf.fit(\n",
    "    X_train, \n",
    "    y_train,\n",
    "    eval_set = [(X_train, y_train),(X_validation, y_validation)],\n",
    "    eval_metric: cosine_similarity,\n",
    "    early_stopping_rounds=100\n",
    ")"
   ]
  }
 ],
 "metadata": {
  "kernelspec": {
   "display_name": "Python 3 (ipykernel)",
   "language": "python",
   "name": "python3"
  },
  "language_info": {
   "codemirror_mode": {
    "name": "ipython",
    "version": 3
   },
   "file_extension": ".py",
   "mimetype": "text/x-python",
   "name": "python",
   "nbconvert_exporter": "python",
   "pygments_lexer": "ipython3",
   "version": "3.9.15"
  }
 },
 "nbformat": 4,
 "nbformat_minor": 5
}
