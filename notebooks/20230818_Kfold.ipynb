{
 "cells": [
  {
   "cell_type": "code",
   "execution_count": 53,
   "id": "7d8b1d91-06fd-4277-8766-91aa65630f05",
   "metadata": {},
   "outputs": [],
   "source": [
    "import pandas as pd\n",
    "import numpy as np\n",
    "from pathlib import Path\n",
    "import plotly.express as px\n",
    "import time"
   ]
  },
  {
   "cell_type": "code",
   "execution_count": 54,
   "id": "9603a490-e942-49b7-af4e-bddf9a24a47b",
   "metadata": {},
   "outputs": [],
   "source": [
    "from sklearn.model_selection import cross_val_predict, KFold, TimeSeriesSplit\n",
    "from sklearn.linear_model import Ridge\n",
    "import lightgbm as lgb"
   ]
  },
  {
   "cell_type": "code",
   "execution_count": 55,
   "id": "60faa6a9-471e-465f-bb09-03f5df8b14e7",
   "metadata": {},
   "outputs": [],
   "source": [
    "from src.metrics import cosine_similarity"
   ]
  },
  {
   "cell_type": "markdown",
   "id": "d652d1c3-02c7-4fd5-807a-acb2c7d58120",
   "metadata": {},
   "source": [
    "# 環境設定"
   ]
  },
  {
   "cell_type": "code",
   "execution_count": 56,
   "id": "c52b92ed-9748-4f74-86b8-91c7eacd9080",
   "metadata": {},
   "outputs": [],
   "source": [
    "DATA_PATH = \"./data\"\n",
    "RESULT_PATH = \"./results\""
   ]
  },
  {
   "cell_type": "markdown",
   "id": "e60bf786-9526-4ca1-a377-959ad7d708c3",
   "metadata": {},
   "source": [
    "# 関数定義"
   ]
  },
  {
   "cell_type": "code",
   "execution_count": 57,
   "id": "97678f5a-0f54-49c4-b1e3-f125c713cd68",
   "metadata": {},
   "outputs": [],
   "source": [
    "# KFoldを実装\n",
    "# cv splitterは， split関数でインデックスの配列を返す必要があるぽい\n",
    "class MyKFold:\n",
    "    def __init__(self, n_splits=5):\n",
    "        self.n_splits = n_splits\n",
    "\n",
    "    def split(self, X, y, groups=None):\n",
    "        n = X.shape[0]\n",
    "        group_samples = 10000\n",
    "        group_count = (n + group_samples - 1) // group_samples\n",
    "        groups = np.arange(group_count)\n",
    "\n",
    "        def group_idx_to_idx(idx):\n",
    "            return np.concatenate([\n",
    "                np.arange(group_samples * g, min(n, group_samples * (g + 1)))\n",
    "                for g in idx\n",
    "            ])\n",
    "\n",
    "        cv = KFold(self.n_splits)\n",
    "        for train_index, test_index in cv.split(groups):\n",
    "            # remove the group next to the test group\n",
    "            train_index = train_index[~np.isin(train_index, [\n",
    "                test_index[0] - 1, test_index[0] + 1,\n",
    "                test_index[-1] - 1, test_index[-1] + 1,\n",
    "            ])]\n",
    "            yield group_idx_to_idx(train_index), group_idx_to_idx(test_index)\n",
    "\n",
    "    def get_n_splits(self):\n",
    "        return self.n_splits"
   ]
  },
  {
   "cell_type": "code",
   "execution_count": 58,
   "id": "58d1e712-8a1b-472f-9be3-fb2d6a8d59e1",
   "metadata": {},
   "outputs": [
    {
     "name": "stdout",
     "output_type": "stream",
     "text": [
      "[30000 30001 30002 ... 99997 99998 99999]\n",
      "[    0     1     2 ... 19997 19998 19999]\n",
      "[    0     1     2 ... 99997 99998 99999]\n",
      "[20000 20001 20002 ... 39997 39998 39999]\n",
      "[    0     1     2 ... 99997 99998 99999]\n",
      "[40000 40001 40002 ... 59997 59998 59999]\n",
      "[    0     1     2 ... 99997 99998 99999]\n",
      "[60000 60001 60002 ... 79997 79998 79999]\n",
      "[    0     1     2 ... 69997 69998 69999]\n",
      "[80000 80001 80002 ... 99997 99998 99999]\n"
     ]
    }
   ],
   "source": [
    "for i, j in MyKFold(n_splits=5).split(np.arange(100000), np.arange(100000)):\n",
    "    print(i)\n",
    "    print(j)"
   ]
  },
  {
   "cell_type": "markdown",
   "id": "caa5d652-f0ff-4e53-9b96-73fa808f40cc",
   "metadata": {},
   "source": [
    "# 分析"
   ]
  },
  {
   "cell_type": "markdown",
   "id": "86a425cc-5242-4587-bbd2-01a961172ade",
   "metadata": {},
   "source": [
    "## データ読み込み"
   ]
  },
  {
   "cell_type": "code",
   "execution_count": 59,
   "id": "7318c80d-7d5e-4420-a8bf-5d90663895fe",
   "metadata": {},
   "outputs": [],
   "source": [
    "train_data = pd.read_parquet(Path(DATA_PATH, \"train.parquet\"))\n",
    "test_data = pd.read_parquet(Path(DATA_PATH, \"test.parquet\"))"
   ]
  },
  {
   "cell_type": "markdown",
   "id": "9a200e92-1404-412b-b909-9d182aef88b5",
   "metadata": {},
   "source": [
    "## モデルの学習"
   ]
  },
  {
   "cell_type": "code",
   "execution_count": 60,
   "id": "79829b89-9659-4c06-842e-17c99f57de5c",
   "metadata": {},
   "outputs": [],
   "source": [
    "# サンプリング（時間短縮のため）\n",
    "sample_train_data = train_data.sample(frac=1)"
   ]
  },
  {
   "cell_type": "code",
   "execution_count": 63,
   "id": "22201c40-45b1-4594-98a9-5fd66d0cfc74",
   "metadata": {},
   "outputs": [
    {
     "name": "stdout",
     "output_type": "stream",
     "text": [
      "X_trainのshape:(660000, 695)\n",
      "y_trainのshape:(660000,)\n"
     ]
    }
   ],
   "source": [
    "# データ分割\n",
    "# TODO: 時系列データであることを考慮すべき？\n",
    "feature_cols = train_data.drop(columns=[\"id\", \"target\"]).columns\n",
    "target_col = \"target\"\n",
    "X_train = train_data[feature_cols]\n",
    "y_train = train_data[target_col]\n",
    "print(f'X_trainのshape:{X_train.shape}')\n",
    "print(f'y_trainのshape:{y_train.shape}')"
   ]
  },
  {
   "cell_type": "code",
   "execution_count": 64,
   "id": "6f9975cf-cfc2-42b5-ab62-661cbd376d80",
   "metadata": {},
   "outputs": [
    {
     "name": "stdout",
     "output_type": "stream",
     "text": [
      "cosine similarity 0.033795105656280744\n"
     ]
    }
   ],
   "source": [
    "# モデルの設定\n",
    "model = Ridge()\n",
    "\n",
    "# 学習モデルの評価を行います。\n",
    "y_train_pred = cross_val_predict(\n",
    "    model,\n",
    "    X_train,\n",
    "    y_train,\n",
    "    cv=MyKFold(),\n",
    ")\n",
    "print(f'cosine similarity {cosine_similarity(y_train, y_train_pred)}')"
   ]
  },
  {
   "cell_type": "code",
   "execution_count": 38,
   "id": "d74d5a14-48bc-43df-8084-afa7203c121a",
   "metadata": {},
   "outputs": [
    {
     "data": {
      "text/html": [
       "<style>#sk-container-id-2 {color: black;background-color: white;}#sk-container-id-2 pre{padding: 0;}#sk-container-id-2 div.sk-toggleable {background-color: white;}#sk-container-id-2 label.sk-toggleable__label {cursor: pointer;display: block;width: 100%;margin-bottom: 0;padding: 0.3em;box-sizing: border-box;text-align: center;}#sk-container-id-2 label.sk-toggleable__label-arrow:before {content: \"▸\";float: left;margin-right: 0.25em;color: #696969;}#sk-container-id-2 label.sk-toggleable__label-arrow:hover:before {color: black;}#sk-container-id-2 div.sk-estimator:hover label.sk-toggleable__label-arrow:before {color: black;}#sk-container-id-2 div.sk-toggleable__content {max-height: 0;max-width: 0;overflow: hidden;text-align: left;background-color: #f0f8ff;}#sk-container-id-2 div.sk-toggleable__content pre {margin: 0.2em;color: black;border-radius: 0.25em;background-color: #f0f8ff;}#sk-container-id-2 input.sk-toggleable__control:checked~div.sk-toggleable__content {max-height: 200px;max-width: 100%;overflow: auto;}#sk-container-id-2 input.sk-toggleable__control:checked~label.sk-toggleable__label-arrow:before {content: \"▾\";}#sk-container-id-2 div.sk-estimator input.sk-toggleable__control:checked~label.sk-toggleable__label {background-color: #d4ebff;}#sk-container-id-2 div.sk-label input.sk-toggleable__control:checked~label.sk-toggleable__label {background-color: #d4ebff;}#sk-container-id-2 input.sk-hidden--visually {border: 0;clip: rect(1px 1px 1px 1px);clip: rect(1px, 1px, 1px, 1px);height: 1px;margin: -1px;overflow: hidden;padding: 0;position: absolute;width: 1px;}#sk-container-id-2 div.sk-estimator {font-family: monospace;background-color: #f0f8ff;border: 1px dotted black;border-radius: 0.25em;box-sizing: border-box;margin-bottom: 0.5em;}#sk-container-id-2 div.sk-estimator:hover {background-color: #d4ebff;}#sk-container-id-2 div.sk-parallel-item::after {content: \"\";width: 100%;border-bottom: 1px solid gray;flex-grow: 1;}#sk-container-id-2 div.sk-label:hover label.sk-toggleable__label {background-color: #d4ebff;}#sk-container-id-2 div.sk-serial::before {content: \"\";position: absolute;border-left: 1px solid gray;box-sizing: border-box;top: 0;bottom: 0;left: 50%;z-index: 0;}#sk-container-id-2 div.sk-serial {display: flex;flex-direction: column;align-items: center;background-color: white;padding-right: 0.2em;padding-left: 0.2em;position: relative;}#sk-container-id-2 div.sk-item {position: relative;z-index: 1;}#sk-container-id-2 div.sk-parallel {display: flex;align-items: stretch;justify-content: center;background-color: white;position: relative;}#sk-container-id-2 div.sk-item::before, #sk-container-id-2 div.sk-parallel-item::before {content: \"\";position: absolute;border-left: 1px solid gray;box-sizing: border-box;top: 0;bottom: 0;left: 50%;z-index: -1;}#sk-container-id-2 div.sk-parallel-item {display: flex;flex-direction: column;z-index: 1;position: relative;background-color: white;}#sk-container-id-2 div.sk-parallel-item:first-child::after {align-self: flex-end;width: 50%;}#sk-container-id-2 div.sk-parallel-item:last-child::after {align-self: flex-start;width: 50%;}#sk-container-id-2 div.sk-parallel-item:only-child::after {width: 0;}#sk-container-id-2 div.sk-dashed-wrapped {border: 1px dashed gray;margin: 0 0.4em 0.5em 0.4em;box-sizing: border-box;padding-bottom: 0.4em;background-color: white;}#sk-container-id-2 div.sk-label label {font-family: monospace;font-weight: bold;display: inline-block;line-height: 1.2em;}#sk-container-id-2 div.sk-label-container {text-align: center;}#sk-container-id-2 div.sk-container {/* jupyter's `normalize.less` sets `[hidden] { display: none; }` but bootstrap.min.css set `[hidden] { display: none !important; }` so we also need the `!important` here to be able to override the default hidden behavior on the sphinx rendered scikit-learn.org. See: https://github.com/scikit-learn/scikit-learn/issues/21755 */display: inline-block !important;position: relative;}#sk-container-id-2 div.sk-text-repr-fallback {display: none;}</style><div id=\"sk-container-id-2\" class=\"sk-top-container\"><div class=\"sk-text-repr-fallback\"><pre>Ridge()</pre><b>In a Jupyter environment, please rerun this cell to show the HTML representation or trust the notebook. <br />On GitHub, the HTML representation is unable to render, please try loading this page with nbviewer.org.</b></div><div class=\"sk-container\" hidden><div class=\"sk-item\"><div class=\"sk-estimator sk-toggleable\"><input class=\"sk-toggleable__control sk-hidden--visually\" id=\"sk-estimator-id-2\" type=\"checkbox\" checked><label for=\"sk-estimator-id-2\" class=\"sk-toggleable__label sk-toggleable__label-arrow\">Ridge</label><div class=\"sk-toggleable__content\"><pre>Ridge()</pre></div></div></div></div></div>"
      ],
      "text/plain": [
       "Ridge()"
      ]
     },
     "execution_count": 38,
     "metadata": {},
     "output_type": "execute_result"
    }
   ],
   "source": [
    "model.fit(X_train, y_train)"
   ]
  },
  {
   "cell_type": "markdown",
   "id": "280d7919-a54e-4daa-817e-d06c21f37748",
   "metadata": {},
   "source": [
    "## テストデータの予測"
   ]
  },
  {
   "cell_type": "code",
   "execution_count": 39,
   "id": "971e6d42-e4d4-4b72-8f3a-ea9e6f7d2a9e",
   "metadata": {},
   "outputs": [],
   "source": [
    "# 予測\n",
    "id_test = test_data[\"id\"].values.reshape(-1)\n",
    "X_test = test_data.drop(columns=[\"id\"]).copy()\n",
    "y_test_pred = model.predict(X_test)"
   ]
  },
  {
   "cell_type": "code",
   "execution_count": 40,
   "id": "c3e8524b-18fd-475f-9a65-811cd5b63ba1",
   "metadata": {},
   "outputs": [
    {
     "data": {
      "text/html": [
       "<div>\n",
       "<style scoped>\n",
       "    .dataframe tbody tr th:only-of-type {\n",
       "        vertical-align: middle;\n",
       "    }\n",
       "\n",
       "    .dataframe tbody tr th {\n",
       "        vertical-align: top;\n",
       "    }\n",
       "\n",
       "    .dataframe thead th {\n",
       "        text-align: right;\n",
       "    }\n",
       "</style>\n",
       "<table border=\"1\" class=\"dataframe\">\n",
       "  <thead>\n",
       "    <tr style=\"text-align: right;\">\n",
       "      <th></th>\n",
       "      <th>0</th>\n",
       "    </tr>\n",
       "  </thead>\n",
       "  <tbody>\n",
       "    <tr>\n",
       "      <th>0</th>\n",
       "      <td>0.087330</td>\n",
       "    </tr>\n",
       "    <tr>\n",
       "      <th>1</th>\n",
       "      <td>-0.103369</td>\n",
       "    </tr>\n",
       "    <tr>\n",
       "      <th>2</th>\n",
       "      <td>0.007209</td>\n",
       "    </tr>\n",
       "    <tr>\n",
       "      <th>3</th>\n",
       "      <td>-0.098552</td>\n",
       "    </tr>\n",
       "    <tr>\n",
       "      <th>4</th>\n",
       "      <td>0.015430</td>\n",
       "    </tr>\n",
       "    <tr>\n",
       "      <th>...</th>\n",
       "      <td>...</td>\n",
       "    </tr>\n",
       "    <tr>\n",
       "      <th>261656</th>\n",
       "      <td>-0.044642</td>\n",
       "    </tr>\n",
       "    <tr>\n",
       "      <th>261657</th>\n",
       "      <td>0.033134</td>\n",
       "    </tr>\n",
       "    <tr>\n",
       "      <th>261658</th>\n",
       "      <td>0.048891</td>\n",
       "    </tr>\n",
       "    <tr>\n",
       "      <th>261659</th>\n",
       "      <td>-0.079927</td>\n",
       "    </tr>\n",
       "    <tr>\n",
       "      <th>261660</th>\n",
       "      <td>0.021760</td>\n",
       "    </tr>\n",
       "  </tbody>\n",
       "</table>\n",
       "<p>261661 rows × 1 columns</p>\n",
       "</div>"
      ],
      "text/plain": [
       "               0\n",
       "0       0.087330\n",
       "1      -0.103369\n",
       "2       0.007209\n",
       "3      -0.098552\n",
       "4       0.015430\n",
       "...          ...\n",
       "261656 -0.044642\n",
       "261657  0.033134\n",
       "261658  0.048891\n",
       "261659 -0.079927\n",
       "261660  0.021760\n",
       "\n",
       "[261661 rows x 1 columns]"
      ]
     },
     "execution_count": 40,
     "metadata": {},
     "output_type": "execute_result"
    }
   ],
   "source": [
    "pd.DataFrame(y_test_pred)"
   ]
  },
  {
   "cell_type": "code",
   "execution_count": 41,
   "id": "f86a4e90-1add-4c14-bf09-a8f60960968a",
   "metadata": {},
   "outputs": [],
   "source": [
    "# 保存\n",
    "result = pd.DataFrame(data=y_test_pred, index=id_test, columns=[\"target\"]).reset_index().rename(columns={\"index\": \"id\"})\n",
    "result.to_csv(Path(RESULT_PATH, \"20230818_ridge.csv\"), index=False)"
   ]
  }
 ],
 "metadata": {
  "kernelspec": {
   "display_name": "Python 3 (ipykernel)",
   "language": "python",
   "name": "python3"
  },
  "language_info": {
   "codemirror_mode": {
    "name": "ipython",
    "version": 3
   },
   "file_extension": ".py",
   "mimetype": "text/x-python",
   "name": "python",
   "nbconvert_exporter": "python",
   "pygments_lexer": "ipython3",
   "version": "3.9.15"
  }
 },
 "nbformat": 4,
 "nbformat_minor": 5
}
