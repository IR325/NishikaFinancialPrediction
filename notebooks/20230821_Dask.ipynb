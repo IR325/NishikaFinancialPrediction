{
 "cells": [
  {
   "cell_type": "code",
   "execution_count": 1,
   "id": "7d8b1d91-06fd-4277-8766-91aa65630f05",
   "metadata": {},
   "outputs": [],
   "source": [
    "import pandas as pd\n",
    "import numpy as np\n",
    "from pathlib import Path\n",
    "import plotly.express as px\n",
    "import time"
   ]
  },
  {
   "cell_type": "code",
   "execution_count": 2,
   "id": "9603a490-e942-49b7-af4e-bddf9a24a47b",
   "metadata": {},
   "outputs": [],
   "source": [
    "from sklearn.model_selection import train_test_split, cross_val_predict, TimeSeriesSplit\n",
    "from sklearn.linear_model import Ridge\n",
    "from sklearn.feature_selection import SelectKBest, f_regression\n",
    "import lightgbm as lgb"
   ]
  },
  {
   "cell_type": "code",
   "execution_count": 10,
   "id": "eddc1891-3ed4-4feb-8e43-37091ba77624",
   "metadata": {},
   "outputs": [],
   "source": [
    "from distributed import Client, LocalCluster\n",
    "import dask.dataframe as dd\n",
    "from dask_ml.model_selection import train_test_split as dask_train_test_split"
   ]
  },
  {
   "cell_type": "code",
   "execution_count": 5,
   "id": "60faa6a9-471e-465f-bb09-03f5df8b14e7",
   "metadata": {},
   "outputs": [],
   "source": [
    "from src.metrics import cosine_similarity"
   ]
  },
  {
   "cell_type": "markdown",
   "id": "d652d1c3-02c7-4fd5-807a-acb2c7d58120",
   "metadata": {},
   "source": [
    "# 環境設定"
   ]
  },
  {
   "cell_type": "code",
   "execution_count": 6,
   "id": "c52b92ed-9748-4f74-86b8-91c7eacd9080",
   "metadata": {},
   "outputs": [],
   "source": [
    "DATA_PATH = \"./data\"\n",
    "RESULT_PATH = \"./results\""
   ]
  },
  {
   "cell_type": "markdown",
   "id": "e60bf786-9526-4ca1-a377-959ad7d708c3",
   "metadata": {},
   "source": [
    "# 関数定義"
   ]
  },
  {
   "cell_type": "markdown",
   "id": "caa5d652-f0ff-4e53-9b96-73fa808f40cc",
   "metadata": {},
   "source": [
    "# 分析"
   ]
  },
  {
   "cell_type": "markdown",
   "id": "86a425cc-5242-4587-bbd2-01a961172ade",
   "metadata": {},
   "source": [
    "## データ読み込み"
   ]
  },
  {
   "cell_type": "code",
   "execution_count": 7,
   "id": "7318c80d-7d5e-4420-a8bf-5d90663895fe",
   "metadata": {},
   "outputs": [],
   "source": [
    "train_data = dd.read_parquet(Path(DATA_PATH, \"train.parquet\"))\n",
    "test_data = dd.read_parquet(Path(DATA_PATH, \"test.parquet\"))"
   ]
  },
  {
   "cell_type": "markdown",
   "id": "9a200e92-1404-412b-b909-9d182aef88b5",
   "metadata": {},
   "source": [
    "## モデルの学習"
   ]
  },
  {
   "cell_type": "code",
   "execution_count": 12,
   "id": "22201c40-45b1-4594-98a9-5fd66d0cfc74",
   "metadata": {},
   "outputs": [
    {
     "name": "stdout",
     "output_type": "stream",
     "text": [
      "X_trainのshape:(Delayed('int-c13bb95c-68c3-4056-9006-1db25a7880df'), 695)\n",
      "y_trainのshape:(dd.Scalar<size-ag..., dtype=int64>,)\n",
      "X_validのshape:(Delayed('int-56d79577-dbfc-40bb-bd34-df1d701eb318'), 695)\n",
      "y_validのshape:(dd.Scalar<size-ag..., dtype=int64>,)\n"
     ]
    },
    {
     "name": "stderr",
     "output_type": "stream",
     "text": [
      "/Users/ryusuke/anaconda3/envs/work/lib/python3.9/site-packages/dask_ml/model_selection/_split.py:462: FutureWarning: The default value for 'shuffle' must be specified when splitting DataFrames. In the future DataFrames will automatically be shuffled within blocks prior to splitting. Specify 'shuffle=True' to adopt the future behavior now, or 'shuffle=False' to retain the previous behavior.\n",
      "  warnings.warn(\n"
     ]
    }
   ],
   "source": [
    "# データ分割\n",
    "# TODO: 時系列データであることを考慮すべき？\n",
    "feature_cols = train_data.drop(columns=[\"id\", \"target\"]).columns\n",
    "target_col = \"target\"\n",
    "X_train, X_valid, y_train, y_valid = dask_train_test_split(\n",
    "    train_data[feature_cols], \n",
    "    train_data[target_col], \n",
    "    test_size=0.3\n",
    ")\n",
    "\n",
    "print(f'X_trainのshape:{X_train.shape}')\n",
    "print(f'y_trainのshape:{y_train.shape}')\n",
    "print(f'X_validのshape:{X_valid.shape}')\n",
    "print(f'y_validのshape:{y_valid.shape}')"
   ]
  },
  {
   "cell_type": "code",
   "execution_count": 21,
   "id": "77c81acb-380c-4eaf-b65c-9391a7f454a1",
   "metadata": {},
   "outputs": [
    {
     "name": "stdout",
     "output_type": "stream",
     "text": [
      "<class 'dask.dataframe.core.DataFrame'>\n",
      "<class 'dask.dataframe.core.Series'>\n"
     ]
    }
   ],
   "source": [
    "print(type(X_train))\n",
    "print(type(y_train))"
   ]
  },
  {
   "cell_type": "code",
   "execution_count": 22,
   "id": "6f9975cf-cfc2-42b5-ab62-661cbd376d80",
   "metadata": {
    "tags": []
   },
   "outputs": [
    {
     "name": "stderr",
     "output_type": "stream",
     "text": [
      "/Users/ryusuke/anaconda3/envs/work/lib/python3.9/site-packages/distributed/node.py:182: UserWarning: Port 8787 is already in use.\n",
      "Perhaps you already have a cluster running?\n",
      "Hosting the HTTP server on port 52687 instead\n",
      "  warnings.warn(\n"
     ]
    },
    {
     "name": "stdout",
     "output_type": "stream",
     "text": [
      "CPU times: user 6 µs, sys: 3 µs, total: 9 µs\n",
      "Wall time: 36 µs\n"
     ]
    },
    {
     "name": "stderr",
     "output_type": "stream",
     "text": [
      "2023-08-21 23:38:34,588 - distributed.nanny.memory - WARNING - Worker tcp://127.0.0.1:52696 (pid=7985) exceeded 95% memory budget. Restarting...\n",
      "2023-08-21 23:38:35,993 - distributed.nanny - WARNING - Restarting worker\n",
      "2023-08-21 23:38:44,074 - distributed.worker.memory - WARNING - Unmanaged memory use is high. This may indicate a memory leak or the memory may not be released to the OS; see https://distributed.dask.org/en/latest/worker-memory.html#memory-not-released-back-to-the-os for more information. -- Unmanaged memory: 5.56 GiB -- Worker memory limit: 8.00 GiB\n",
      "2023-08-21 23:38:44,173 - distributed.worker.memory - WARNING - Unmanaged memory use is high. This may indicate a memory leak or the memory may not be released to the OS; see https://distributed.dask.org/en/latest/worker-memory.html#memory-not-released-back-to-the-os for more information. -- Unmanaged memory: 5.64 GiB -- Worker memory limit: 8.00 GiB\n",
      "2023-08-21 23:38:44,272 - distributed.worker.memory - WARNING - Unmanaged memory use is high. This may indicate a memory leak or the memory may not be released to the OS; see https://distributed.dask.org/en/latest/worker-memory.html#memory-not-released-back-to-the-os for more information. -- Unmanaged memory: 5.72 GiB -- Worker memory limit: 8.00 GiB\n",
      "2023-08-21 23:38:44,373 - distributed.worker.memory - WARNING - Unmanaged memory use is high. This may indicate a memory leak or the memory may not be released to the OS; see https://distributed.dask.org/en/latest/worker-memory.html#memory-not-released-back-to-the-os for more information. -- Unmanaged memory: 5.80 GiB -- Worker memory limit: 8.00 GiB\n",
      "2023-08-21 23:38:44,473 - distributed.worker.memory - WARNING - Unmanaged memory use is high. This may indicate a memory leak or the memory may not be released to the OS; see https://distributed.dask.org/en/latest/worker-memory.html#memory-not-released-back-to-the-os for more information. -- Unmanaged memory: 5.88 GiB -- Worker memory limit: 8.00 GiB\n",
      "2023-08-21 23:38:44,573 - distributed.worker.memory - WARNING - Unmanaged memory use is high. This may indicate a memory leak or the memory may not be released to the OS; see https://distributed.dask.org/en/latest/worker-memory.html#memory-not-released-back-to-the-os for more information. -- Unmanaged memory: 5.96 GiB -- Worker memory limit: 8.00 GiB\n",
      "2023-08-21 23:38:44,674 - distributed.worker.memory - WARNING - Unmanaged memory use is high. This may indicate a memory leak or the memory may not be released to the OS; see https://distributed.dask.org/en/latest/worker-memory.html#memory-not-released-back-to-the-os for more information. -- Unmanaged memory: 6.04 GiB -- Worker memory limit: 8.00 GiB\n",
      "2023-08-21 23:38:44,773 - distributed.worker.memory - WARNING - Unmanaged memory use is high. This may indicate a memory leak or the memory may not be released to the OS; see https://distributed.dask.org/en/latest/worker-memory.html#memory-not-released-back-to-the-os for more information. -- Unmanaged memory: 6.13 GiB -- Worker memory limit: 8.00 GiB\n",
      "2023-08-21 23:38:44,874 - distributed.worker.memory - WARNING - Unmanaged memory use is high. This may indicate a memory leak or the memory may not be released to the OS; see https://distributed.dask.org/en/latest/worker-memory.html#memory-not-released-back-to-the-os for more information. -- Unmanaged memory: 6.20 GiB -- Worker memory limit: 8.00 GiB\n",
      "2023-08-21 23:38:44,973 - distributed.worker.memory - WARNING - Unmanaged memory use is high. This may indicate a memory leak or the memory may not be released to the OS; see https://distributed.dask.org/en/latest/worker-memory.html#memory-not-released-back-to-the-os for more information. -- Unmanaged memory: 6.28 GiB -- Worker memory limit: 8.00 GiB\n",
      "2023-08-21 23:38:45,073 - distributed.worker.memory - WARNING - Unmanaged memory use is high. This may indicate a memory leak or the memory may not be released to the OS; see https://distributed.dask.org/en/latest/worker-memory.html#memory-not-released-back-to-the-os for more information. -- Unmanaged memory: 6.35 GiB -- Worker memory limit: 8.00 GiB\n",
      "2023-08-21 23:38:45,348 - distributed.worker.memory - WARNING - Worker is at 80% memory usage. Pausing worker.  Process memory: 6.44 GiB -- Worker memory limit: 8.00 GiB\n",
      "2023-08-21 23:38:45,349 - distributed.worker.memory - WARNING - Unmanaged memory use is high. This may indicate a memory leak or the memory may not be released to the OS; see https://distributed.dask.org/en/latest/worker-memory.html#memory-not-released-back-to-the-os for more information. -- Unmanaged memory: 6.44 GiB -- Worker memory limit: 8.00 GiB\n",
      "2023-08-21 23:38:45,374 - distributed.worker.memory - WARNING - Unmanaged memory use is high. This may indicate a memory leak or the memory may not be released to the OS; see https://distributed.dask.org/en/latest/worker-memory.html#memory-not-released-back-to-the-os for more information. -- Unmanaged memory: 6.59 GiB -- Worker memory limit: 8.00 GiB\n",
      "2023-08-21 23:38:45,472 - distributed.worker.memory - WARNING - Unmanaged memory use is high. This may indicate a memory leak or the memory may not be released to the OS; see https://distributed.dask.org/en/latest/worker-memory.html#memory-not-released-back-to-the-os for more information. -- Unmanaged memory: 6.67 GiB -- Worker memory limit: 8.00 GiB\n",
      "2023-08-21 23:38:45,573 - distributed.worker.memory - WARNING - Unmanaged memory use is high. This may indicate a memory leak or the memory may not be released to the OS; see https://distributed.dask.org/en/latest/worker-memory.html#memory-not-released-back-to-the-os for more information. -- Unmanaged memory: 6.74 GiB -- Worker memory limit: 8.00 GiB\n",
      "2023-08-21 23:38:45,674 - distributed.worker.memory - WARNING - Unmanaged memory use is high. This may indicate a memory leak or the memory may not be released to the OS; see https://distributed.dask.org/en/latest/worker-memory.html#memory-not-released-back-to-the-os for more information. -- Unmanaged memory: 6.82 GiB -- Worker memory limit: 8.00 GiB\n",
      "2023-08-21 23:38:45,772 - distributed.worker.memory - WARNING - Unmanaged memory use is high. This may indicate a memory leak or the memory may not be released to the OS; see https://distributed.dask.org/en/latest/worker-memory.html#memory-not-released-back-to-the-os for more information. -- Unmanaged memory: 6.90 GiB -- Worker memory limit: 8.00 GiB\n",
      "2023-08-21 23:38:45,874 - distributed.worker.memory - WARNING - Unmanaged memory use is high. This may indicate a memory leak or the memory may not be released to the OS; see https://distributed.dask.org/en/latest/worker-memory.html#memory-not-released-back-to-the-os for more information. -- Unmanaged memory: 6.97 GiB -- Worker memory limit: 8.00 GiB\n",
      "2023-08-21 23:38:45,972 - distributed.worker.memory - WARNING - Unmanaged memory use is high. This may indicate a memory leak or the memory may not be released to the OS; see https://distributed.dask.org/en/latest/worker-memory.html#memory-not-released-back-to-the-os for more information. -- Unmanaged memory: 7.04 GiB -- Worker memory limit: 8.00 GiB\n",
      "2023-08-21 23:38:46,073 - distributed.worker.memory - WARNING - Unmanaged memory use is high. This may indicate a memory leak or the memory may not be released to the OS; see https://distributed.dask.org/en/latest/worker-memory.html#memory-not-released-back-to-the-os for more information. -- Unmanaged memory: 7.13 GiB -- Worker memory limit: 8.00 GiB\n",
      "2023-08-21 23:38:46,172 - distributed.worker.memory - WARNING - Unmanaged memory use is high. This may indicate a memory leak or the memory may not be released to the OS; see https://distributed.dask.org/en/latest/worker-memory.html#memory-not-released-back-to-the-os for more information. -- Unmanaged memory: 7.20 GiB -- Worker memory limit: 8.00 GiB\n",
      "2023-08-21 23:38:46,273 - distributed.worker.memory - WARNING - Unmanaged memory use is high. This may indicate a memory leak or the memory may not be released to the OS; see https://distributed.dask.org/en/latest/worker-memory.html#memory-not-released-back-to-the-os for more information. -- Unmanaged memory: 7.29 GiB -- Worker memory limit: 8.00 GiB\n",
      "2023-08-21 23:38:46,375 - distributed.worker.memory - WARNING - Unmanaged memory use is high. This may indicate a memory leak or the memory may not be released to the OS; see https://distributed.dask.org/en/latest/worker-memory.html#memory-not-released-back-to-the-os for more information. -- Unmanaged memory: 7.36 GiB -- Worker memory limit: 8.00 GiB\n",
      "2023-08-21 23:38:46,472 - distributed.worker.memory - WARNING - Unmanaged memory use is high. This may indicate a memory leak or the memory may not be released to the OS; see https://distributed.dask.org/en/latest/worker-memory.html#memory-not-released-back-to-the-os for more information. -- Unmanaged memory: 7.43 GiB -- Worker memory limit: 8.00 GiB\n",
      "2023-08-21 23:38:46,572 - distributed.worker.memory - WARNING - Unmanaged memory use is high. This may indicate a memory leak or the memory may not be released to the OS; see https://distributed.dask.org/en/latest/worker-memory.html#memory-not-released-back-to-the-os for more information. -- Unmanaged memory: 7.48 GiB -- Worker memory limit: 8.00 GiB\n",
      "2023-08-21 23:38:46,672 - distributed.worker.memory - WARNING - Unmanaged memory use is high. This may indicate a memory leak or the memory may not be released to the OS; see https://distributed.dask.org/en/latest/worker-memory.html#memory-not-released-back-to-the-os for more information. -- Unmanaged memory: 7.55 GiB -- Worker memory limit: 8.00 GiB\n",
      "2023-08-21 23:38:46,773 - distributed.worker.memory - WARNING - Unmanaged memory use is high. This may indicate a memory leak or the memory may not be released to the OS; see https://distributed.dask.org/en/latest/worker-memory.html#memory-not-released-back-to-the-os for more information. -- Unmanaged memory: 7.62 GiB -- Worker memory limit: 8.00 GiB\n",
      "2023-08-21 23:38:46,811 - distributed.nanny.memory - WARNING - Worker tcp://127.0.0.1:52695 (pid=7986) exceeded 95% memory budget. Restarting...\n",
      "2023-08-21 23:38:47,591 - distributed.nanny - WARNING - Restarting worker\n",
      "2023-08-21 23:38:56,859 - distributed.worker.memory - WARNING - Unmanaged memory use is high. This may indicate a memory leak or the memory may not be released to the OS; see https://distributed.dask.org/en/latest/worker-memory.html#memory-not-released-back-to-the-os for more information. -- Unmanaged memory: 5.58 GiB -- Worker memory limit: 8.00 GiB\n",
      "2023-08-21 23:38:56,923 - distributed.worker.memory - WARNING - Unmanaged memory use is high. This may indicate a memory leak or the memory may not be released to the OS; see https://distributed.dask.org/en/latest/worker-memory.html#memory-not-released-back-to-the-os for more information. -- Unmanaged memory: 5.60 GiB -- Worker memory limit: 8.00 GiB\n",
      "2023-08-21 23:38:56,999 - distributed.worker.memory - WARNING - Unmanaged memory use is high. This may indicate a memory leak or the memory may not be released to the OS; see https://distributed.dask.org/en/latest/worker-memory.html#memory-not-released-back-to-the-os for more information. -- Unmanaged memory: 5.65 GiB -- Worker memory limit: 8.00 GiB\n",
      "2023-08-21 23:38:57,098 - distributed.worker.memory - WARNING - Unmanaged memory use is high. This may indicate a memory leak or the memory may not be released to the OS; see https://distributed.dask.org/en/latest/worker-memory.html#memory-not-released-back-to-the-os for more information. -- Unmanaged memory: 5.73 GiB -- Worker memory limit: 8.00 GiB\n",
      "2023-08-21 23:38:57,198 - distributed.worker.memory - WARNING - Unmanaged memory use is high. This may indicate a memory leak or the memory may not be released to the OS; see https://distributed.dask.org/en/latest/worker-memory.html#memory-not-released-back-to-the-os for more information. -- Unmanaged memory: 5.80 GiB -- Worker memory limit: 8.00 GiB\n",
      "2023-08-21 23:38:57,300 - distributed.worker.memory - WARNING - Unmanaged memory use is high. This may indicate a memory leak or the memory may not be released to the OS; see https://distributed.dask.org/en/latest/worker-memory.html#memory-not-released-back-to-the-os for more information. -- Unmanaged memory: 5.87 GiB -- Worker memory limit: 8.00 GiB\n",
      "2023-08-21 23:38:57,399 - distributed.worker.memory - WARNING - Unmanaged memory use is high. This may indicate a memory leak or the memory may not be released to the OS; see https://distributed.dask.org/en/latest/worker-memory.html#memory-not-released-back-to-the-os for more information. -- Unmanaged memory: 5.94 GiB -- Worker memory limit: 8.00 GiB\n",
      "2023-08-21 23:38:57,500 - distributed.worker.memory - WARNING - Unmanaged memory use is high. This may indicate a memory leak or the memory may not be released to the OS; see https://distributed.dask.org/en/latest/worker-memory.html#memory-not-released-back-to-the-os for more information. -- Unmanaged memory: 6.00 GiB -- Worker memory limit: 8.00 GiB\n",
      "2023-08-21 23:38:57,598 - distributed.worker.memory - WARNING - Unmanaged memory use is high. This may indicate a memory leak or the memory may not be released to the OS; see https://distributed.dask.org/en/latest/worker-memory.html#memory-not-released-back-to-the-os for more information. -- Unmanaged memory: 6.08 GiB -- Worker memory limit: 8.00 GiB\n",
      "2023-08-21 23:38:57,698 - distributed.worker.memory - WARNING - Unmanaged memory use is high. This may indicate a memory leak or the memory may not be released to the OS; see https://distributed.dask.org/en/latest/worker-memory.html#memory-not-released-back-to-the-os for more information. -- Unmanaged memory: 6.15 GiB -- Worker memory limit: 8.00 GiB\n",
      "2023-08-21 23:38:57,800 - distributed.worker.memory - WARNING - Unmanaged memory use is high. This may indicate a memory leak or the memory may not be released to the OS; see https://distributed.dask.org/en/latest/worker-memory.html#memory-not-released-back-to-the-os for more information. -- Unmanaged memory: 6.24 GiB -- Worker memory limit: 8.00 GiB\n",
      "2023-08-21 23:38:57,900 - distributed.worker.memory - WARNING - Unmanaged memory use is high. This may indicate a memory leak or the memory may not be released to the OS; see https://distributed.dask.org/en/latest/worker-memory.html#memory-not-released-back-to-the-os for more information. -- Unmanaged memory: 6.30 GiB -- Worker memory limit: 8.00 GiB\n",
      "2023-08-21 23:38:57,998 - distributed.worker.memory - WARNING - Unmanaged memory use is high. This may indicate a memory leak or the memory may not be released to the OS; see https://distributed.dask.org/en/latest/worker-memory.html#memory-not-released-back-to-the-os for more information. -- Unmanaged memory: 6.38 GiB -- Worker memory limit: 8.00 GiB\n",
      "2023-08-21 23:38:58,152 - distributed.worker.memory - WARNING - Worker is at 80% memory usage. Pausing worker.  Process memory: 6.45 GiB -- Worker memory limit: 8.00 GiB\n",
      "2023-08-21 23:38:58,153 - distributed.worker.memory - WARNING - Unmanaged memory use is high. This may indicate a memory leak or the memory may not be released to the OS; see https://distributed.dask.org/en/latest/worker-memory.html#memory-not-released-back-to-the-os for more information. -- Unmanaged memory: 6.45 GiB -- Worker memory limit: 8.00 GiB\n",
      "2023-08-21 23:38:58,201 - distributed.worker.memory - WARNING - Unmanaged memory use is high. This may indicate a memory leak or the memory may not be released to the OS; see https://distributed.dask.org/en/latest/worker-memory.html#memory-not-released-back-to-the-os for more information. -- Unmanaged memory: 6.53 GiB -- Worker memory limit: 8.00 GiB\n",
      "2023-08-21 23:38:58,301 - distributed.worker.memory - WARNING - Unmanaged memory use is high. This may indicate a memory leak or the memory may not be released to the OS; see https://distributed.dask.org/en/latest/worker-memory.html#memory-not-released-back-to-the-os for more information. -- Unmanaged memory: 6.59 GiB -- Worker memory limit: 8.00 GiB\n",
      "2023-08-21 23:38:58,397 - distributed.worker.memory - WARNING - Unmanaged memory use is high. This may indicate a memory leak or the memory may not be released to the OS; see https://distributed.dask.org/en/latest/worker-memory.html#memory-not-released-back-to-the-os for more information. -- Unmanaged memory: 6.65 GiB -- Worker memory limit: 8.00 GiB\n",
      "2023-08-21 23:38:58,500 - distributed.worker.memory - WARNING - Unmanaged memory use is high. This may indicate a memory leak or the memory may not be released to the OS; see https://distributed.dask.org/en/latest/worker-memory.html#memory-not-released-back-to-the-os for more information. -- Unmanaged memory: 6.72 GiB -- Worker memory limit: 8.00 GiB\n",
      "2023-08-21 23:38:58,598 - distributed.worker.memory - WARNING - Unmanaged memory use is high. This may indicate a memory leak or the memory may not be released to the OS; see https://distributed.dask.org/en/latest/worker-memory.html#memory-not-released-back-to-the-os for more information. -- Unmanaged memory: 6.80 GiB -- Worker memory limit: 8.00 GiB\n",
      "2023-08-21 23:38:58,698 - distributed.worker.memory - WARNING - Unmanaged memory use is high. This may indicate a memory leak or the memory may not be released to the OS; see https://distributed.dask.org/en/latest/worker-memory.html#memory-not-released-back-to-the-os for more information. -- Unmanaged memory: 6.87 GiB -- Worker memory limit: 8.00 GiB\n",
      "2023-08-21 23:38:58,801 - distributed.worker.memory - WARNING - Unmanaged memory use is high. This may indicate a memory leak or the memory may not be released to the OS; see https://distributed.dask.org/en/latest/worker-memory.html#memory-not-released-back-to-the-os for more information. -- Unmanaged memory: 6.95 GiB -- Worker memory limit: 8.00 GiB\n",
      "2023-08-21 23:38:58,898 - distributed.worker.memory - WARNING - Unmanaged memory use is high. This may indicate a memory leak or the memory may not be released to the OS; see https://distributed.dask.org/en/latest/worker-memory.html#memory-not-released-back-to-the-os for more information. -- Unmanaged memory: 7.01 GiB -- Worker memory limit: 8.00 GiB\n",
      "2023-08-21 23:38:58,998 - distributed.worker.memory - WARNING - Unmanaged memory use is high. This may indicate a memory leak or the memory may not be released to the OS; see https://distributed.dask.org/en/latest/worker-memory.html#memory-not-released-back-to-the-os for more information. -- Unmanaged memory: 7.09 GiB -- Worker memory limit: 8.00 GiB\n",
      "2023-08-21 23:38:59,098 - distributed.worker.memory - WARNING - Unmanaged memory use is high. This may indicate a memory leak or the memory may not be released to the OS; see https://distributed.dask.org/en/latest/worker-memory.html#memory-not-released-back-to-the-os for more information. -- Unmanaged memory: 7.16 GiB -- Worker memory limit: 8.00 GiB\n",
      "2023-08-21 23:38:59,198 - distributed.worker.memory - WARNING - Unmanaged memory use is high. This may indicate a memory leak or the memory may not be released to the OS; see https://distributed.dask.org/en/latest/worker-memory.html#memory-not-released-back-to-the-os for more information. -- Unmanaged memory: 7.23 GiB -- Worker memory limit: 8.00 GiB\n",
      "2023-08-21 23:38:59,300 - distributed.worker.memory - WARNING - Unmanaged memory use is high. This may indicate a memory leak or the memory may not be released to the OS; see https://distributed.dask.org/en/latest/worker-memory.html#memory-not-released-back-to-the-os for more information. -- Unmanaged memory: 7.31 GiB -- Worker memory limit: 8.00 GiB\n",
      "2023-08-21 23:38:59,398 - distributed.worker.memory - WARNING - Unmanaged memory use is high. This may indicate a memory leak or the memory may not be released to the OS; see https://distributed.dask.org/en/latest/worker-memory.html#memory-not-released-back-to-the-os for more information. -- Unmanaged memory: 7.37 GiB -- Worker memory limit: 8.00 GiB\n",
      "2023-08-21 23:38:59,498 - distributed.worker.memory - WARNING - Unmanaged memory use is high. This may indicate a memory leak or the memory may not be released to the OS; see https://distributed.dask.org/en/latest/worker-memory.html#memory-not-released-back-to-the-os for more information. -- Unmanaged memory: 7.45 GiB -- Worker memory limit: 8.00 GiB\n",
      "2023-08-21 23:38:59,598 - distributed.worker.memory - WARNING - Unmanaged memory use is high. This may indicate a memory leak or the memory may not be released to the OS; see https://distributed.dask.org/en/latest/worker-memory.html#memory-not-released-back-to-the-os for more information. -- Unmanaged memory: 7.52 GiB -- Worker memory limit: 8.00 GiB\n",
      "2023-08-21 23:38:59,698 - distributed.worker.memory - WARNING - Unmanaged memory use is high. This may indicate a memory leak or the memory may not be released to the OS; see https://distributed.dask.org/en/latest/worker-memory.html#memory-not-released-back-to-the-os for more information. -- Unmanaged memory: 7.59 GiB -- Worker memory limit: 8.00 GiB\n",
      "2023-08-21 23:38:59,788 - distributed.nanny.memory - WARNING - Worker tcp://127.0.0.1:52738 (pid=8013) exceeded 95% memory budget. Restarting...\n",
      "2023-08-21 23:39:00,568 - distributed.nanny - WARNING - Restarting worker\n",
      "2023-08-21 23:39:09,882 - distributed.worker.memory - WARNING - Unmanaged memory use is high. This may indicate a memory leak or the memory may not be released to the OS; see https://distributed.dask.org/en/latest/worker-memory.html#memory-not-released-back-to-the-os for more information. -- Unmanaged memory: 5.59 GiB -- Worker memory limit: 8.00 GiB\n",
      "2023-08-21 23:39:09,925 - distributed.worker.memory - WARNING - Unmanaged memory use is high. This may indicate a memory leak or the memory may not be released to the OS; see https://distributed.dask.org/en/latest/worker-memory.html#memory-not-released-back-to-the-os for more information. -- Unmanaged memory: 5.62 GiB -- Worker memory limit: 8.00 GiB\n",
      "2023-08-21 23:39:10,024 - distributed.worker.memory - WARNING - Unmanaged memory use is high. This may indicate a memory leak or the memory may not be released to the OS; see https://distributed.dask.org/en/latest/worker-memory.html#memory-not-released-back-to-the-os for more information. -- Unmanaged memory: 5.70 GiB -- Worker memory limit: 8.00 GiB\n",
      "2023-08-21 23:39:10,127 - distributed.worker.memory - WARNING - Unmanaged memory use is high. This may indicate a memory leak or the memory may not be released to the OS; see https://distributed.dask.org/en/latest/worker-memory.html#memory-not-released-back-to-the-os for more information. -- Unmanaged memory: 5.77 GiB -- Worker memory limit: 8.00 GiB\n",
      "2023-08-21 23:39:10,226 - distributed.worker.memory - WARNING - Unmanaged memory use is high. This may indicate a memory leak or the memory may not be released to the OS; see https://distributed.dask.org/en/latest/worker-memory.html#memory-not-released-back-to-the-os for more information. -- Unmanaged memory: 5.85 GiB -- Worker memory limit: 8.00 GiB\n",
      "2023-08-21 23:39:10,326 - distributed.worker.memory - WARNING - Unmanaged memory use is high. This may indicate a memory leak or the memory may not be released to the OS; see https://distributed.dask.org/en/latest/worker-memory.html#memory-not-released-back-to-the-os for more information. -- Unmanaged memory: 5.92 GiB -- Worker memory limit: 8.00 GiB\n",
      "2023-08-21 23:39:10,425 - distributed.worker.memory - WARNING - Unmanaged memory use is high. This may indicate a memory leak or the memory may not be released to the OS; see https://distributed.dask.org/en/latest/worker-memory.html#memory-not-released-back-to-the-os for more information. -- Unmanaged memory: 5.99 GiB -- Worker memory limit: 8.00 GiB\n",
      "2023-08-21 23:39:10,525 - distributed.worker.memory - WARNING - Unmanaged memory use is high. This may indicate a memory leak or the memory may not be released to the OS; see https://distributed.dask.org/en/latest/worker-memory.html#memory-not-released-back-to-the-os for more information. -- Unmanaged memory: 6.07 GiB -- Worker memory limit: 8.00 GiB\n",
      "2023-08-21 23:39:10,624 - distributed.worker.memory - WARNING - Unmanaged memory use is high. This may indicate a memory leak or the memory may not be released to the OS; see https://distributed.dask.org/en/latest/worker-memory.html#memory-not-released-back-to-the-os for more information. -- Unmanaged memory: 6.15 GiB -- Worker memory limit: 8.00 GiB\n",
      "2023-08-21 23:39:10,724 - distributed.worker.memory - WARNING - Unmanaged memory use is high. This may indicate a memory leak or the memory may not be released to the OS; see https://distributed.dask.org/en/latest/worker-memory.html#memory-not-released-back-to-the-os for more information. -- Unmanaged memory: 6.22 GiB -- Worker memory limit: 8.00 GiB\n",
      "2023-08-21 23:39:10,827 - distributed.worker.memory - WARNING - Unmanaged memory use is high. This may indicate a memory leak or the memory may not be released to the OS; see https://distributed.dask.org/en/latest/worker-memory.html#memory-not-released-back-to-the-os for more information. -- Unmanaged memory: 6.31 GiB -- Worker memory limit: 8.00 GiB\n",
      "2023-08-21 23:39:10,925 - distributed.worker.memory - WARNING - Unmanaged memory use is high. This may indicate a memory leak or the memory may not be released to the OS; see https://distributed.dask.org/en/latest/worker-memory.html#memory-not-released-back-to-the-os for more information. -- Unmanaged memory: 6.38 GiB -- Worker memory limit: 8.00 GiB\n",
      "2023-08-21 23:39:11,074 - distributed.worker.memory - WARNING - Worker is at 80% memory usage. Pausing worker.  Process memory: 6.46 GiB -- Worker memory limit: 8.00 GiB\n",
      "2023-08-21 23:39:11,075 - distributed.worker.memory - WARNING - Unmanaged memory use is high. This may indicate a memory leak or the memory may not be released to the OS; see https://distributed.dask.org/en/latest/worker-memory.html#memory-not-released-back-to-the-os for more information. -- Unmanaged memory: 6.46 GiB -- Worker memory limit: 8.00 GiB\n",
      "2023-08-21 23:39:11,126 - distributed.worker.memory - WARNING - Unmanaged memory use is high. This may indicate a memory leak or the memory may not be released to the OS; see https://distributed.dask.org/en/latest/worker-memory.html#memory-not-released-back-to-the-os for more information. -- Unmanaged memory: 6.53 GiB -- Worker memory limit: 8.00 GiB\n",
      "2023-08-21 23:39:11,224 - distributed.worker.memory - WARNING - Unmanaged memory use is high. This may indicate a memory leak or the memory may not be released to the OS; see https://distributed.dask.org/en/latest/worker-memory.html#memory-not-released-back-to-the-os for more information. -- Unmanaged memory: 6.61 GiB -- Worker memory limit: 8.00 GiB\n",
      "2023-08-21 23:39:11,327 - distributed.worker.memory - WARNING - Unmanaged memory use is high. This may indicate a memory leak or the memory may not be released to the OS; see https://distributed.dask.org/en/latest/worker-memory.html#memory-not-released-back-to-the-os for more information. -- Unmanaged memory: 6.68 GiB -- Worker memory limit: 8.00 GiB\n",
      "2023-08-21 23:39:11,425 - distributed.worker.memory - WARNING - Unmanaged memory use is high. This may indicate a memory leak or the memory may not be released to the OS; see https://distributed.dask.org/en/latest/worker-memory.html#memory-not-released-back-to-the-os for more information. -- Unmanaged memory: 6.76 GiB -- Worker memory limit: 8.00 GiB\n",
      "2023-08-21 23:39:11,527 - distributed.worker.memory - WARNING - Unmanaged memory use is high. This may indicate a memory leak or the memory may not be released to the OS; see https://distributed.dask.org/en/latest/worker-memory.html#memory-not-released-back-to-the-os for more information. -- Unmanaged memory: 6.84 GiB -- Worker memory limit: 8.00 GiB\n",
      "2023-08-21 23:39:11,625 - distributed.worker.memory - WARNING - Unmanaged memory use is high. This may indicate a memory leak or the memory may not be released to the OS; see https://distributed.dask.org/en/latest/worker-memory.html#memory-not-released-back-to-the-os for more information. -- Unmanaged memory: 6.91 GiB -- Worker memory limit: 8.00 GiB\n",
      "2023-08-21 23:39:11,727 - distributed.worker.memory - WARNING - Unmanaged memory use is high. This may indicate a memory leak or the memory may not be released to the OS; see https://distributed.dask.org/en/latest/worker-memory.html#memory-not-released-back-to-the-os for more information. -- Unmanaged memory: 6.99 GiB -- Worker memory limit: 8.00 GiB\n",
      "2023-08-21 23:39:11,829 - distributed.worker.memory - WARNING - Unmanaged memory use is high. This may indicate a memory leak or the memory may not be released to the OS; see https://distributed.dask.org/en/latest/worker-memory.html#memory-not-released-back-to-the-os for more information. -- Unmanaged memory: 7.07 GiB -- Worker memory limit: 8.00 GiB\n",
      "2023-08-21 23:39:11,928 - distributed.worker.memory - WARNING - Unmanaged memory use is high. This may indicate a memory leak or the memory may not be released to the OS; see https://distributed.dask.org/en/latest/worker-memory.html#memory-not-released-back-to-the-os for more information. -- Unmanaged memory: 7.14 GiB -- Worker memory limit: 8.00 GiB\n",
      "2023-08-21 23:39:12,024 - distributed.worker.memory - WARNING - Unmanaged memory use is high. This may indicate a memory leak or the memory may not be released to the OS; see https://distributed.dask.org/en/latest/worker-memory.html#memory-not-released-back-to-the-os for more information. -- Unmanaged memory: 7.22 GiB -- Worker memory limit: 8.00 GiB\n",
      "2023-08-21 23:39:12,124 - distributed.worker.memory - WARNING - Unmanaged memory use is high. This may indicate a memory leak or the memory may not be released to the OS; see https://distributed.dask.org/en/latest/worker-memory.html#memory-not-released-back-to-the-os for more information. -- Unmanaged memory: 7.25 GiB -- Worker memory limit: 8.00 GiB\n",
      "2023-08-21 23:39:12,224 - distributed.worker.memory - WARNING - Unmanaged memory use is high. This may indicate a memory leak or the memory may not be released to the OS; see https://distributed.dask.org/en/latest/worker-memory.html#memory-not-released-back-to-the-os for more information. -- Unmanaged memory: 7.32 GiB -- Worker memory limit: 8.00 GiB\n",
      "2023-08-21 23:39:12,327 - distributed.worker.memory - WARNING - Unmanaged memory use is high. This may indicate a memory leak or the memory may not be released to the OS; see https://distributed.dask.org/en/latest/worker-memory.html#memory-not-released-back-to-the-os for more information. -- Unmanaged memory: 7.39 GiB -- Worker memory limit: 8.00 GiB\n",
      "2023-08-21 23:39:12,426 - distributed.worker.memory - WARNING - Unmanaged memory use is high. This may indicate a memory leak or the memory may not be released to the OS; see https://distributed.dask.org/en/latest/worker-memory.html#memory-not-released-back-to-the-os for more information. -- Unmanaged memory: 7.47 GiB -- Worker memory limit: 8.00 GiB\n",
      "2023-08-21 23:39:12,524 - distributed.worker.memory - WARNING - Unmanaged memory use is high. This may indicate a memory leak or the memory may not be released to the OS; see https://distributed.dask.org/en/latest/worker-memory.html#memory-not-released-back-to-the-os for more information. -- Unmanaged memory: 7.54 GiB -- Worker memory limit: 8.00 GiB\n",
      "2023-08-21 23:39:12,612 - distributed.nanny.memory - WARNING - Worker tcp://127.0.0.1:52742 (pid=8020) exceeded 95% memory budget. Restarting...\n",
      "2023-08-21 23:39:13,349 - distributed.nanny - WARNING - Restarting worker\n"
     ]
    },
    {
     "ename": "AttributeError",
     "evalue": "'Future' object has no attribute 'get_params'",
     "output_type": "error",
     "traceback": [
      "\u001b[0;31m---------------------------------------------------------------------------\u001b[0m",
      "\u001b[0;31mAttributeError\u001b[0m                            Traceback (most recent call last)",
      "Cell \u001b[0;32mIn [22], line 10\u001b[0m\n\u001b[1;32m      8\u001b[0m \u001b[38;5;66;03m# モデルの学習\u001b[39;00m\n\u001b[1;32m      9\u001b[0m get_ipython()\u001b[38;5;241m.\u001b[39mrun_line_magic(\u001b[38;5;124m'\u001b[39m\u001b[38;5;124mtime\u001b[39m\u001b[38;5;124m'\u001b[39m, \u001b[38;5;124m'\u001b[39m\u001b[38;5;124m'\u001b[39m)\n\u001b[0;32m---> 10\u001b[0m \u001b[43mmodel\u001b[49m\u001b[38;5;241;43m.\u001b[39;49m\u001b[43mfit\u001b[49m\u001b[43m(\u001b[49m\n\u001b[1;32m     11\u001b[0m \u001b[43m    \u001b[49m\u001b[43mX_train\u001b[49m\u001b[43m,\u001b[49m\u001b[43m \u001b[49m\n\u001b[1;32m     12\u001b[0m \u001b[43m    \u001b[49m\u001b[43my_train\u001b[49m\u001b[43m,\u001b[49m\n\u001b[1;32m     13\u001b[0m \u001b[43m)\u001b[49m\n",
      "File \u001b[0;32m~/anaconda3/envs/work/lib/python3.9/site-packages/lightgbm/dask.py:1355\u001b[0m, in \u001b[0;36mDaskLGBMRegressor.fit\u001b[0;34m(self, X, y, sample_weight, init_score, eval_set, eval_names, eval_sample_weight, eval_init_score, eval_metric, early_stopping_rounds, **kwargs)\u001b[0m\n\u001b[1;32m   1352\u001b[0m \u001b[38;5;28;01mif\u001b[39;00m early_stopping_rounds \u001b[38;5;129;01mis\u001b[39;00m \u001b[38;5;129;01mnot\u001b[39;00m \u001b[38;5;28;01mNone\u001b[39;00m:\n\u001b[1;32m   1353\u001b[0m     \u001b[38;5;28;01mraise\u001b[39;00m \u001b[38;5;167;01mRuntimeError\u001b[39;00m(\u001b[38;5;124m'\u001b[39m\u001b[38;5;124mearly_stopping_rounds is not currently supported in lightgbm.dask\u001b[39m\u001b[38;5;124m'\u001b[39m)\n\u001b[0;32m-> 1355\u001b[0m \u001b[38;5;28;01mreturn\u001b[39;00m \u001b[38;5;28;43mself\u001b[39;49m\u001b[38;5;241;43m.\u001b[39;49m\u001b[43m_lgb_dask_fit\u001b[49m\u001b[43m(\u001b[49m\n\u001b[1;32m   1356\u001b[0m \u001b[43m    \u001b[49m\u001b[43mmodel_factory\u001b[49m\u001b[38;5;241;43m=\u001b[39;49m\u001b[43mLGBMRegressor\u001b[49m\u001b[43m,\u001b[49m\n\u001b[1;32m   1357\u001b[0m \u001b[43m    \u001b[49m\u001b[43mX\u001b[49m\u001b[38;5;241;43m=\u001b[39;49m\u001b[43mX\u001b[49m\u001b[43m,\u001b[49m\n\u001b[1;32m   1358\u001b[0m \u001b[43m    \u001b[49m\u001b[43my\u001b[49m\u001b[38;5;241;43m=\u001b[39;49m\u001b[43my\u001b[49m\u001b[43m,\u001b[49m\n\u001b[1;32m   1359\u001b[0m \u001b[43m    \u001b[49m\u001b[43msample_weight\u001b[49m\u001b[38;5;241;43m=\u001b[39;49m\u001b[43msample_weight\u001b[49m\u001b[43m,\u001b[49m\n\u001b[1;32m   1360\u001b[0m \u001b[43m    \u001b[49m\u001b[43minit_score\u001b[49m\u001b[38;5;241;43m=\u001b[39;49m\u001b[43minit_score\u001b[49m\u001b[43m,\u001b[49m\n\u001b[1;32m   1361\u001b[0m \u001b[43m    \u001b[49m\u001b[43meval_set\u001b[49m\u001b[38;5;241;43m=\u001b[39;49m\u001b[43meval_set\u001b[49m\u001b[43m,\u001b[49m\n\u001b[1;32m   1362\u001b[0m \u001b[43m    \u001b[49m\u001b[43meval_names\u001b[49m\u001b[38;5;241;43m=\u001b[39;49m\u001b[43meval_names\u001b[49m\u001b[43m,\u001b[49m\n\u001b[1;32m   1363\u001b[0m \u001b[43m    \u001b[49m\u001b[43meval_sample_weight\u001b[49m\u001b[38;5;241;43m=\u001b[39;49m\u001b[43meval_sample_weight\u001b[49m\u001b[43m,\u001b[49m\n\u001b[1;32m   1364\u001b[0m \u001b[43m    \u001b[49m\u001b[43meval_init_score\u001b[49m\u001b[38;5;241;43m=\u001b[39;49m\u001b[43meval_init_score\u001b[49m\u001b[43m,\u001b[49m\n\u001b[1;32m   1365\u001b[0m \u001b[43m    \u001b[49m\u001b[43meval_metric\u001b[49m\u001b[38;5;241;43m=\u001b[39;49m\u001b[43meval_metric\u001b[49m\u001b[43m,\u001b[49m\n\u001b[1;32m   1366\u001b[0m \u001b[43m    \u001b[49m\u001b[38;5;241;43m*\u001b[39;49m\u001b[38;5;241;43m*\u001b[39;49m\u001b[43mkwargs\u001b[49m\n\u001b[1;32m   1367\u001b[0m \u001b[43m\u001b[49m\u001b[43m)\u001b[49m\n",
      "File \u001b[0;32m~/anaconda3/envs/work/lib/python3.9/site-packages/lightgbm/dask.py:1067\u001b[0m, in \u001b[0;36m_DaskLGBMModel._lgb_dask_fit\u001b[0;34m(self, model_factory, X, y, sample_weight, init_score, group, eval_set, eval_names, eval_sample_weight, eval_class_weight, eval_init_score, eval_group, eval_metric, eval_at, early_stopping_rounds, **kwargs)\u001b[0m\n\u001b[1;32m   1045\u001b[0m params\u001b[38;5;241m.\u001b[39mpop(\u001b[38;5;124m\"\u001b[39m\u001b[38;5;124mclient\u001b[39m\u001b[38;5;124m\"\u001b[39m, \u001b[38;5;28;01mNone\u001b[39;00m)\n\u001b[1;32m   1047\u001b[0m model \u001b[38;5;241m=\u001b[39m _train(\n\u001b[1;32m   1048\u001b[0m     client\u001b[38;5;241m=\u001b[39m_get_dask_client(\u001b[38;5;28mself\u001b[39m\u001b[38;5;241m.\u001b[39mclient),\n\u001b[1;32m   1049\u001b[0m     data\u001b[38;5;241m=\u001b[39mX,\n\u001b[0;32m   (...)\u001b[0m\n\u001b[1;32m   1064\u001b[0m     \u001b[38;5;241m*\u001b[39m\u001b[38;5;241m*\u001b[39mkwargs\n\u001b[1;32m   1065\u001b[0m )\n\u001b[0;32m-> 1067\u001b[0m \u001b[38;5;28mself\u001b[39m\u001b[38;5;241m.\u001b[39mset_params(\u001b[38;5;241m*\u001b[39m\u001b[38;5;241m*\u001b[39m\u001b[43mmodel\u001b[49m\u001b[38;5;241;43m.\u001b[39;49m\u001b[43mget_params\u001b[49m())\n\u001b[1;32m   1068\u001b[0m \u001b[38;5;28mself\u001b[39m\u001b[38;5;241m.\u001b[39m_lgb_dask_copy_extra_params(model, \u001b[38;5;28mself\u001b[39m)\n\u001b[1;32m   1070\u001b[0m \u001b[38;5;28;01mreturn\u001b[39;00m \u001b[38;5;28mself\u001b[39m\n",
      "\u001b[0;31mAttributeError\u001b[0m: 'Future' object has no attribute 'get_params'"
     ]
    }
   ],
   "source": [
    "# モデルの設定\n",
    "model = lgb.DaskLGBMRegressor(n_estimators=10)\n",
    "\n",
    "# daskの設定\n",
    "cluster = LocalCluster(n_workers=2)\n",
    "client = Client(cluster)\n",
    "\n",
    "# モデルの学習\n",
    "%time model.fit(X_train, y_train)"
   ]
  },
  {
   "cell_type": "code",
   "execution_count": 57,
   "id": "dd807683-e200-4a29-8a74-dd54c8839f69",
   "metadata": {
    "tags": []
   },
   "outputs": [
    {
     "name": "stdout",
     "output_type": "stream",
     "text": [
      "trainの精度：0.30204719310715356\n",
      "validの精度：0.10335585223513896\n"
     ]
    }
   ],
   "source": [
    "# 精度\n",
    "y_train_pred = model.predict(X_train)\n",
    "y_valid_pred = model.predict(X_valid)\n",
    "print(f\"trainの精度：{cosine_similarity(y_train, y_train_pred)}\")\n",
    "print(f\"validの精度：{cosine_similarity(y_valid, y_valid_pred)}\")"
   ]
  },
  {
   "cell_type": "markdown",
   "id": "280d7919-a54e-4daa-817e-d06c21f37748",
   "metadata": {},
   "source": [
    "## テストデータの予測"
   ]
  },
  {
   "cell_type": "code",
   "execution_count": 58,
   "id": "971e6d42-e4d4-4b72-8f3a-ea9e6f7d2a9e",
   "metadata": {},
   "outputs": [],
   "source": [
    "# 予測\n",
    "id_test = test_data[\"id\"].values.reshape(-1)\n",
    "X_test = test_data.drop(columns=[\"id\"]).copy()\n",
    "X_test_selected = selector.transform(X_test)"
   ]
  },
  {
   "cell_type": "code",
   "execution_count": 59,
   "id": "205b4719-3394-46e7-9af4-872874cd7af4",
   "metadata": {},
   "outputs": [],
   "source": [
    "y_test_pred = model.predict(X_test_selected)"
   ]
  },
  {
   "cell_type": "code",
   "execution_count": 60,
   "id": "f86a4e90-1add-4c14-bf09-a8f60960968a",
   "metadata": {},
   "outputs": [],
   "source": [
    "# 保存\n",
    "result = pd.DataFrame(data=y_test_pred, index=id_test, columns=[\"target\"]).reset_index().rename(columns={\"index\": \"id\"})\n",
    "result.to_csv(Path(RESULT_PATH, \"20230820_LGBM_feature_selection.csv\"), index=False)"
   ]
  },
  {
   "cell_type": "markdown",
   "id": "99803415-9817-471f-9f35-d7958fa7cede",
   "metadata": {
    "tags": []
   },
   "source": [
    "# 参考サイト\n",
    "- https://qiita.com/rockhopper/items/a68ceb3248f2b3a41c89"
   ]
  }
 ],
 "metadata": {
  "kernelspec": {
   "display_name": "Python 3 (ipykernel)",
   "language": "python",
   "name": "python3"
  },
  "language_info": {
   "codemirror_mode": {
    "name": "ipython",
    "version": 3
   },
   "file_extension": ".py",
   "mimetype": "text/x-python",
   "name": "python",
   "nbconvert_exporter": "python",
   "pygments_lexer": "ipython3",
   "version": "3.9.15"
  }
 },
 "nbformat": 4,
 "nbformat_minor": 5
}
