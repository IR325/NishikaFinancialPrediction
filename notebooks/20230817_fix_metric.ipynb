{
 "cells": [
  {
   "cell_type": "code",
   "execution_count": 28,
   "id": "7d8b1d91-06fd-4277-8766-91aa65630f05",
   "metadata": {},
   "outputs": [],
   "source": [
    "import pandas as pd\n",
    "import numpy as np\n",
    "from pathlib import Path\n",
    "import plotly.express as px\n",
    "import time\n",
    "import pickle"
   ]
  },
  {
   "cell_type": "code",
   "execution_count": 29,
   "id": "9603a490-e942-49b7-af4e-bddf9a24a47b",
   "metadata": {},
   "outputs": [],
   "source": [
    "from sklearn.model_selection import train_test_split\n",
    "import lightgbm as lgb\n",
    "import shap"
   ]
  },
  {
   "cell_type": "markdown",
   "id": "d652d1c3-02c7-4fd5-807a-acb2c7d58120",
   "metadata": {},
   "source": [
    "# 環境設定"
   ]
  },
  {
   "cell_type": "code",
   "execution_count": 30,
   "id": "c52b92ed-9748-4f74-86b8-91c7eacd9080",
   "metadata": {},
   "outputs": [],
   "source": [
    "DATA_PATH = \"./data\"\n",
    "RESULT_PATH = \"./results\""
   ]
  },
  {
   "cell_type": "markdown",
   "id": "e60bf786-9526-4ca1-a377-959ad7d708c3",
   "metadata": {},
   "source": [
    "# 関数定義"
   ]
  },
  {
   "cell_type": "code",
   "execution_count": 31,
   "id": "f9a3f73d-7879-43dd-b111-520d79f88310",
   "metadata": {},
   "outputs": [],
   "source": [
    "def cosine_similarity(y_true, y_pred):\n",
    "    if isinstance(y_true, pd.Series):\n",
    "        y_true = y_true.values.reshape(-1)\n",
    "    if isinstance(y_pred, pd.Series):\n",
    "        y_pred = y_pred.values.reshape(-1)\n",
    "    score = np.dot(y_true, y_pred) / (np.linalg.norm(y_true) * np.linalg.norm(y_pred))\n",
    "    return score"
   ]
  },
  {
   "cell_type": "markdown",
   "id": "caa5d652-f0ff-4e53-9b96-73fa808f40cc",
   "metadata": {},
   "source": [
    "# 分析"
   ]
  },
  {
   "cell_type": "markdown",
   "id": "86a425cc-5242-4587-bbd2-01a961172ade",
   "metadata": {},
   "source": [
    "## データ読み込み"
   ]
  },
  {
   "cell_type": "code",
   "execution_count": 32,
   "id": "7318c80d-7d5e-4420-a8bf-5d90663895fe",
   "metadata": {},
   "outputs": [],
   "source": [
    "train_data = pd.read_parquet(Path(DATA_PATH, \"train.parquet\"))\n",
    "test_data = pd.read_parquet(Path(DATA_PATH, \"test.parquet\"))"
   ]
  },
  {
   "cell_type": "markdown",
   "id": "9a200e92-1404-412b-b909-9d182aef88b5",
   "metadata": {},
   "source": [
    "## モデルの学習"
   ]
  },
  {
   "cell_type": "code",
   "execution_count": 33,
   "id": "79829b89-9659-4c06-842e-17c99f57de5c",
   "metadata": {},
   "outputs": [],
   "source": [
    "# サンプリング（時間短縮のため）\n",
    "# sample_train_data = train_data.sample(frac=0.2)"
   ]
  },
  {
   "cell_type": "code",
   "execution_count": 34,
   "id": "22201c40-45b1-4594-98a9-5fd66d0cfc74",
   "metadata": {},
   "outputs": [
    {
     "name": "stdout",
     "output_type": "stream",
     "text": [
      "X_trainのshape:(462000, 695)\n",
      "y_trainのshape:(462000,)\n",
      "X_validのshape:(198000, 695)\n",
      "y_validのshape:(198000,)\n"
     ]
    }
   ],
   "source": [
    "# データ分割\n",
    "# TODO: 時系列データであることを考慮すべき？\n",
    "feature_cols = train_data.drop(columns=[\"id\", \"target\"]).columns\n",
    "target_col = \"target\"\n",
    "X_train, X_valid, y_train, y_valid = train_test_split(\n",
    "    train_data[feature_cols], \n",
    "    train_data[target_col], \n",
    "    test_size=0.3,\n",
    "    shuffle=False # Trueにしないと学習がすぐ終わる\n",
    ")\n",
    "print(f'X_trainのshape:{X_train.shape}')\n",
    "print(f'y_trainのshape:{y_train.shape}')\n",
    "print(f'X_validのshape:{X_valid.shape}')\n",
    "print(f'y_validのshape:{y_valid.shape}')"
   ]
  },
  {
   "cell_type": "code",
   "execution_count": 35,
   "id": "5487c571-1d1b-457d-b529-238f9e52054a",
   "metadata": {},
   "outputs": [],
   "source": [
    "# パラメータの準備\n",
    "params = {\n",
    "    'boosting_type':'gbdt',\n",
    "    'objective':'regression',\n",
    "    'metric': 'rmse',\n",
    "    'num_leaves':16,\n",
    "    'learning_rate':0.1,\n",
    "    'n_estimators':30000, # ここで計算時間の上限をある程度決められる\n",
    "    'random_state':0\n",
    "}"
   ]
  },
  {
   "cell_type": "code",
   "execution_count": 36,
   "id": "31146e13-6119-498a-a743-5e83faa8cc9b",
   "metadata": {},
   "outputs": [],
   "source": [
    "# インスタンスの作成\n",
    "clf = lgb.LGBMRegressor(**params)"
   ]
  },
  {
   "cell_type": "code",
   "execution_count": 37,
   "id": "e8e7409d-08c9-4184-a27b-e19f6a78b1b1",
   "metadata": {
    "tags": []
   },
   "outputs": [
    {
     "name": "stderr",
     "output_type": "stream",
     "text": [
      "'early_stopping_rounds' argument is deprecated and will be removed in a future release of LightGBM. Pass 'early_stopping()' callback via 'callbacks' argument instead.\n"
     ]
    },
    {
     "name": "stdout",
     "output_type": "stream",
     "text": [
      "[1]\ttraining's rmse: 1.05893\tvalid_1's rmse: 0.844962\n",
      "[2]\ttraining's rmse: 1.05843\tvalid_1's rmse: 0.844979\n",
      "[3]\ttraining's rmse: 1.05799\tvalid_1's rmse: 0.844986\n",
      "[4]\ttraining's rmse: 1.05757\tvalid_1's rmse: 0.845029\n",
      "[5]\ttraining's rmse: 1.05721\tvalid_1's rmse: 0.845022\n",
      "[6]\ttraining's rmse: 1.05686\tvalid_1's rmse: 0.845045\n",
      "[7]\ttraining's rmse: 1.05651\tvalid_1's rmse: 0.845101\n",
      "[8]\ttraining's rmse: 1.05614\tvalid_1's rmse: 0.84513\n",
      "[9]\ttraining's rmse: 1.05583\tvalid_1's rmse: 0.845205\n",
      "[10]\ttraining's rmse: 1.05556\tvalid_1's rmse: 0.845247\n",
      "[11]\ttraining's rmse: 1.05529\tvalid_1's rmse: 0.845237\n",
      "学習にかかった時間：23.126369953155518\n"
     ]
    }
   ],
   "source": [
    "# モデルの学習\n",
    "start_time = time.time()\n",
    "clf.fit(\n",
    "    X_train, \n",
    "    y_train,\n",
    "    eval_set=[(X_train, y_train),(X_valid, y_valid)],\n",
    "    early_stopping_rounds=10\n",
    ")\n",
    "print(f\"学習にかかった時間：{time.time() - start_time}\")"
   ]
  },
  {
   "cell_type": "code",
   "execution_count": 38,
   "id": "abf94b83-6641-44f9-a0ef-087b73ea0625",
   "metadata": {},
   "outputs": [
    {
     "name": "stdout",
     "output_type": "stream",
     "text": [
      "trainの精度：0.07272275498223026\n",
      "validの精度：0.007635229796593228\n"
     ]
    }
   ],
   "source": [
    "# 精度\n",
    "y_train_pred = clf.predict(X_train)\n",
    "y_valid_pred = clf.predict(X_valid)\n",
    "print(f\"trainの精度：{cosine_similarity(y_train, y_train_pred)}\")\n",
    "print(f\"validの精度：{cosine_similarity(y_valid, y_valid_pred)}\")"
   ]
  },
  {
   "cell_type": "markdown",
   "id": "280d7919-a54e-4daa-817e-d06c21f37748",
   "metadata": {},
   "source": [
    "## テストデータの予測"
   ]
  },
  {
   "cell_type": "code",
   "execution_count": 39,
   "id": "971e6d42-e4d4-4b72-8f3a-ea9e6f7d2a9e",
   "metadata": {},
   "outputs": [],
   "source": [
    "# 予測\n",
    "id_test = test_data[\"id\"].values.reshape(-1)\n",
    "X_test = test_data.drop(columns=[\"id\"]).copy()\n",
    "y_test_pred = clf.predict(X_test)"
   ]
  },
  {
   "cell_type": "code",
   "execution_count": 40,
   "id": "f86a4e90-1add-4c14-bf09-a8f60960968a",
   "metadata": {},
   "outputs": [],
   "source": [
    "# 保存\n",
    "result = pd.DataFrame(data=y_test_pred, index=id_test, columns=[\"target\"]).reset_index().rename(columns={\"index\": \"id\"})\n",
    "result.to_csv(Path(RESULT_PATH, \"20230825_result.csv\"), index=False)"
   ]
  },
  {
   "cell_type": "code",
   "execution_count": 27,
   "id": "d045b8d0-7d37-417d-a641-37fdbf486704",
   "metadata": {},
   "outputs": [
    {
     "data": {
      "text/plain": [
       "<AxesSubplot:title={'center':'Feature importance'}, xlabel='Feature importance', ylabel='Features'>"
      ]
     },
     "execution_count": 27,
     "metadata": {},
     "output_type": "execute_result"
    },
    {
     "data": {
      "image/png": "[encoded data removed]",
      "text/plain": [
       "<Figure size 640x480 with 1 Axes>"
      ]
     },
     "metadata": {},
     "output_type": "display_data"
    }
   ],
   "source": [
    "lgb.plot_importance(clf, max_num_features=10)"
   ]
  },
  {
   "cell_type": "code",
   "execution_count": 21,
   "id": "c8872e91-4404-466c-9c3d-00da460f9f27",
   "metadata": {},
   "outputs": [],
   "source": [
    "pickle.dump(clf, open(\"./models/20230822_lightgbm_ver3.sav\", 'wb'))"
   ]
  },
  {
   "cell_type": "markdown",
   "id": "06557a1f-854b-42dc-9ba9-47223afee6f2",
   "metadata": {},
   "source": [
    "## モデルの考察"
   ]
  },
  {
   "cell_type": "code",
   "execution_count": 37,
   "id": "2d892297-dda0-4a2e-b800-ef37cb159207",
   "metadata": {},
   "outputs": [],
   "source": [
    "explainer = shap.TreeExplainer(clf, data=X_train)"
   ]
  },
  {
   "cell_type": "code",
   "execution_count": null,
   "id": "0d8f4a53-1c67-4d2c-ab1e-da78babf9687",
   "metadata": {},
   "outputs": [
    {
     "name": "stderr",
     "output_type": "stream",
     "text": [
      "  0%|                   | 466/462000 [01:14<1221:30]       "
     ]
    }
   ],
   "source": [
    "# 時間かかりすぎる\n",
    "train_shap_values = explainer.shap_values(X_train)"
   ]
  },
  {
   "cell_type": "code",
   "execution_count": null,
   "id": "9a7a7545-f24d-473d-a3dd-b18c9c68beed",
   "metadata": {},
   "outputs": [],
   "source": [
    "shap.summary_plot(shap_values=train_shap_values,\n",
    "                  features=X_train,\n",
    "                  feature_names=X_train.columns)"
   ]
  }
 ],
 "metadata": {
  "kernelspec": {
   "display_name": "Python 3 (ipykernel)",
   "language": "python",
   "name": "python3"
  },
  "language_info": {
   "codemirror_mode": {
    "name": "ipython",
    "version": 3
   },
   "file_extension": ".py",
   "mimetype": "text/x-python",
   "name": "python",
   "nbconvert_exporter": "python",
   "pygments_lexer": "ipython3",
   "version": "3.9.15"
  }
 },
 "nbformat": 4,
 "nbformat_minor": 5
}
